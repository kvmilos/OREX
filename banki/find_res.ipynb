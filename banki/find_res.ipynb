{
 "cells": [
  {
   "cell_type": "code",
   "execution_count": 1,
   "metadata": {},
   "outputs": [],
   "source": [
    "import pandas as pd\n",
    "import re"
   ]
  },
  {
   "cell_type": "code",
   "execution_count": 2,
   "metadata": {},
   "outputs": [],
   "source": [
    "REZ = r'(^|\\b|\\D|00000)(1( *\\d){6})(\\D|\\b)'\n",
    "REZ_Z_KWOTAMI = r'(\\b|\\D|00000)(1\\s*(\\d\\s*){6})(\\D)+((\\d\\s*){1,5}(( ?\\(. ?|,)\\d\\d?)?)(\\D|\\b)'"
   ]
  },
  {
   "cell_type": "code",
   "execution_count": 3,
   "metadata": {},
   "outputs": [],
   "source": [
    "def find_reservation(text):\n",
    "    rezerwacje = re.findall(REZ, text)\n",
    "    if len(rezerwacje) == 1 or len(rezerwacje) == 2 and rezerwacje[0][1].replace(' ', '') == rezerwacje[1][1].replace(' ', ''):\n",
    "        return rezerwacje[0][1].replace(' ', '')\n",
    "    else:\n",
    "        return ''"
   ]
  },
  {
   "cell_type": "code",
   "execution_count": 4,
   "metadata": {},
   "outputs": [],
   "source": [
    "def change_names(text):\n",
    "    rezerwacje = re.findall(REZ, text)\n",
    "    if len(rezerwacje) > 1:\n",
    "        rezerwacje2 = re.findall(REZ_Z_KWOTAMI, text)\n",
    "        if len(rezerwacje2) > 1:\n",
    "            res = ''\n",
    "            for r in rezerwacje2:\n",
    "                try:\n",
    "                    res += r[1].replace(' ', '') + '-' + r[4].replace(' ', '') + ';'\n",
    "                except:\n",
    "                    return text\n",
    "            return res[:-1]\n",
    "        else: \n",
    "            return text\n",
    "    else:\n",
    "        return text"
   ]
  },
  {
   "cell_type": "code",
   "execution_count": 5,
   "metadata": {},
   "outputs": [],
   "source": [
    "try:\n",
    "    df = pd.read_excel('rez.xlsx', header=None)\n",
    "    df2 = df.copy()\n",
    "    df2.columns = ['from']\n",
    "    df2['from'] = df2['from'].astype(str)\n",
    "    df2['to'] = df2['from'].apply(find_reservation).replace(' ', '')\n",
    "    df2['changed'] = df2['from'].apply(change_names)\n",
    "except Exception as e:\n",
    "    print(e)\n",
    "    print(df)\n",
    "    print(df2)"
   ]
  },
  {
   "cell_type": "code",
   "execution_count": 6,
   "metadata": {},
   "outputs": [],
   "source": [
    "# save df2 in znalezione_rez.xlsx\n",
    "df2.to_excel('znalezione_rez.xlsx', index=False, header=False)"
   ]
  },
  {
   "cell_type": "markdown",
   "metadata": {},
   "source": []
  },
  {
   "cell_type": "markdown",
   "metadata": {},
   "source": [
    "\\b\\d{7}\\b"
   ]
  },
  {
   "cell_type": "markdown",
   "metadata": {},
   "source": [
    "(^|\\b|\\D)(1( *\\d){6})(\\D|\\b)"
   ]
  }
 ],
 "metadata": {
  "kernelspec": {
   "display_name": ".venv",
   "language": "python",
   "name": "python3"
  },
  "language_info": {
   "codemirror_mode": {
    "name": "ipython",
    "version": 3
   },
   "file_extension": ".py",
   "mimetype": "text/x-python",
   "name": "python",
   "nbconvert_exporter": "python",
   "pygments_lexer": "ipython3",
   "version": "3.12.6"
  }
 },
 "nbformat": 4,
 "nbformat_minor": 2
}
