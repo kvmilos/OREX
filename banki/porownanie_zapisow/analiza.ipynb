{
 "cells": [
  {
   "cell_type": "markdown",
   "metadata": {},
   "source": [
    "## All"
   ]
  },
  {
   "cell_type": "code",
   "execution_count": null,
   "metadata": {},
   "outputs": [],
   "source": [
    "plik = '2248'"
   ]
  },
  {
   "cell_type": "code",
   "execution_count": null,
   "metadata": {},
   "outputs": [],
   "source": [
    "import pandas as pd\n",
    "from decimal import Decimal, ROUND_HALF_UP"
   ]
  },
  {
   "cell_type": "code",
   "execution_count": null,
   "metadata": {},
   "outputs": [],
   "source": [
    "def format_to_two_decimals(value):\n",
    "    return Decimal(value).quantize(Decimal('0.01'), rounding=ROUND_HALF_UP)"
   ]
  },
  {
   "cell_type": "code",
   "execution_count": null,
   "metadata": {},
   "outputs": [],
   "source": [
    "bc = pd.read_excel(f'{plik}.xlsx', sheet_name='BC', header=0)\n",
    "# column 'data' is a date column\n",
    "# bc['debet'] and bc['kredyt'] are decimals - but some of them contain spaces or other white characters inside. ignore these characters\n",
    "bc['data'] = pd.to_datetime(bc['data'], format='%Y-%m-%d')\n",
    "bc['debet'] = bc['debet'].astype(str)\n",
    "bc['kredyt'] = bc['kredyt'].astype(str)\n",
    "bc['debet'] = bc['debet'].str.replace(r'\\s', '', regex=True)\n",
    "bc['debet'] = bc['debet'].str.replace(r',', '.', regex=True)\n",
    "bc['kredyt'] = bc['kredyt'].str.replace(r'\\s', '', regex=True)\n",
    "bc['kredyt'] = bc['kredyt'].str.replace(r',', '.', regex=True)\n",
    "bc['debet'] = bc['debet'].apply(lambda x: format_to_two_decimals(x) if x else Decimal('0'))\n",
    "bc['kredyt'] = bc['kredyt'].apply(lambda x: format_to_two_decimals(x) if x else Decimal('0'))"
   ]
  },
  {
   "cell_type": "markdown",
   "metadata": {},
   "source": [
    "## Santander"
   ]
  },
  {
   "cell_type": "code",
   "execution_count": null,
   "metadata": {},
   "outputs": [],
   "source": [
    "bank = pd.read_excel(f'{plik}.xlsx', sheet_name='bank', header=0)"
   ]
  },
  {
   "cell_type": "code",
   "execution_count": null,
   "metadata": {},
   "outputs": [],
   "source": [
    "bank.head()"
   ]
  },
  {
   "cell_type": "code",
   "execution_count": null,
   "metadata": {},
   "outputs": [],
   "source": [
    "# add a column to bank 'co' with values: 'uznanie' if 'kwota' is positive, 'obciążenie' if 'kwota' is negative\n",
    "bank['co'] = bank['Kwota'].apply(lambda x: 'uznanie' if x > 0 else 'obciążenie')"
   ]
  },
  {
   "cell_type": "code",
   "execution_count": null,
   "metadata": {},
   "outputs": [],
   "source": [
    "# create a new dataframe from bank. group by 'Data księgowania' and make 2 columns 'Uznania' and 'Obciążenia' summing up the values of 'Kwota' for column 'co' having value of 'uznanie' or 'obciążenie' respectively\n",
    "sant = bank.groupby('Data księgowania').apply(lambda x: pd.Series({'Uznania': x[x['co'] == 'uznanie']['Kwota'].sum(), 'Obciążenia': x[x['co'] == 'obciążenie']['Kwota'].sum()})).reset_index()"
   ]
  },
  {
   "cell_type": "code",
   "execution_count": null,
   "metadata": {},
   "outputs": [],
   "source": [
    "sant['Obciążenia'] = sant['Obciążenia'].abs()\n",
    "sant['Uznania'] = sant['Uznania'].apply(lambda x: format_to_two_decimals(x) if x else Decimal('0'))\n",
    "sant['Obciążenia'] = sant['Obciążenia'].apply(lambda x: format_to_two_decimals(x) if x else Decimal('0'))"
   ]
  },
  {
   "cell_type": "code",
   "execution_count": null,
   "metadata": {},
   "outputs": [],
   "source": [
    "# change type of data in column 'Data księgowania' to datetime\n",
    "sant['Data księgowania'] = pd.to_datetime(sant['Data księgowania'], format='%Y-%m-%d')"
   ]
  },
  {
   "cell_type": "code",
   "execution_count": null,
   "metadata": {},
   "outputs": [],
   "source": [
    "# now outer merge the two dataframes on the date. let the new dataframe be 'merged' and contain: 'data', 'kredyt_bc', 'debet_bc', 'uznania_bank', 'obciazenia_bank'\n",
    "merged = pd.merge(bc, sant, left_on='data', right_on='Data księgowania', how='outer')\n"
   ]
  },
  {
   "cell_type": "code",
   "execution_count": null,
   "metadata": {},
   "outputs": [],
   "source": [
    "# change the columns a little bit: i want them in these order: 'data' (which should be 'data' and 'Data Księgowania merged), 'debet_bc', 'obciążenia_bank', 'kredyt_bc', 'uznania_bank'\n",
    "# if data is null in 'data' column, fill it with 'Data księgowania' column\n",
    "merged['data'] = merged['data'].combine_first(merged['Data księgowania'])\n",
    "merged = merged[['data', 'debet', 'kredyt', 'Obciążenia',  'Uznania']]\n",
    "merged.columns = ['data', 'debet_bc', 'kredyt_bc', 'obciazenia_bank', 'uznania_bank']\n",
    "# fill NaNs win last 4 columns with 0\n",
    "merged = merged.fillna(0)"
   ]
  },
  {
   "cell_type": "markdown",
   "metadata": {},
   "source": [
    "## BNP"
   ]
  },
  {
   "cell_type": "code",
   "execution_count": null,
   "metadata": {},
   "outputs": [],
   "source": [
    "bnp = pd.read_excel(f'{plik}.xlsx', sheet_name='bank', header=0)"
   ]
  },
  {
   "cell_type": "code",
   "execution_count": null,
   "metadata": {},
   "outputs": [],
   "source": [
    "# change colnames to data, Obciążenia, Uznania\n",
    "bnp.columns = ['data', 'Obciążenia', 'Uznania', 'waluta']"
   ]
  },
  {
   "cell_type": "code",
   "execution_count": null,
   "metadata": {},
   "outputs": [],
   "source": [
    "bnp['Obciążenia'] = bnp['Obciążenia'].apply(lambda x: format_to_two_decimals(x) if x else Decimal('0'))\n",
    "bnp['Uznania'] = bnp['Uznania'].apply(lambda x: format_to_two_decimals(x) if x else Decimal('0'))"
   ]
  },
  {
   "cell_type": "code",
   "execution_count": null,
   "metadata": {},
   "outputs": [],
   "source": [
    "merged = pd.merge(bc, bnp, left_on='data', right_on='data', how='outer')"
   ]
  },
  {
   "cell_type": "code",
   "execution_count": null,
   "metadata": {},
   "outputs": [],
   "source": [
    "merged = merged[['data', 'debet', 'kredyt', 'Obciążenia',  'Uznania']]\n",
    "merged.columns = ['data', 'debet_bc', 'kredyt_bc', 'obciazenia_bank', 'uznania_bank']\n",
    "merged = merged.fillna(0)"
   ]
  },
  {
   "cell_type": "markdown",
   "metadata": {},
   "source": [
    "## All"
   ]
  },
  {
   "cell_type": "code",
   "execution_count": null,
   "metadata": {},
   "outputs": [],
   "source": [
    "# change data format to 'YYYY-MM-DD'\n",
    "merged['data'] = merged['data'].dt.strftime('%Y-%m-%d')"
   ]
  },
  {
   "cell_type": "code",
   "execution_count": null,
   "metadata": {},
   "outputs": [],
   "source": [
    "# add columns 'debet-obciazenia' and 'kredyt-uznania'\n",
    "merged['debet-obciazenia'] = merged['debet_bc'] - merged['obciazenia_bank']\n",
    "merged['kredyt-uznania'] = merged['kredyt_bc'] - merged['uznania_bank']"
   ]
  },
  {
   "cell_type": "code",
   "execution_count": null,
   "metadata": {},
   "outputs": [],
   "source": [
    "# save to excel\n",
    "\n",
    "merged.to_excel(f'merged_{plik}.xlsx', index=False)"
   ]
  }
 ],
 "metadata": {
  "kernelspec": {
   "display_name": ".venv",
   "language": "python",
   "name": "python3"
  },
  "language_info": {
   "codemirror_mode": {
    "name": "ipython",
    "version": 3
   },
   "file_extension": ".py",
   "mimetype": "text/x-python",
   "name": "python",
   "nbconvert_exporter": "python",
   "pygments_lexer": "ipython3",
   "version": "3.12.6"
  }
 },
 "nbformat": 4,
 "nbformat_minor": 2
}
