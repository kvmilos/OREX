{
 "cells": [
  {
   "cell_type": "code",
   "execution_count": 1,
   "metadata": {},
   "outputs": [],
   "source": [
    "import pandas as pd\n",
    "import re"
   ]
  },
  {
   "cell_type": "code",
   "execution_count": 2,
   "metadata": {},
   "outputs": [],
   "source": [
    "# read start line from last_line.txt\n",
    "with open('last_line.txt', 'r') as f:\n",
    "    START_LINE = int(f.read())\n",
    "CURR_DATE = '24/11/08-11'"
   ]
  },
  {
   "cell_type": "code",
   "execution_count": 3,
   "metadata": {},
   "outputs": [],
   "source": [
    "file = 'import.xlsx'"
   ]
  },
  {
   "cell_type": "code",
   "execution_count": 4,
   "metadata": {},
   "outputs": [
    {
     "name": "stderr",
     "output_type": "stream",
     "text": [
      "c:\\Users\\Kamil Tomaszek\\Desktop\\OREX\\repo\\banki\\.venv\\Lib\\site-packages\\openpyxl\\styles\\stylesheet.py:237: UserWarning: Workbook contains no default style, apply openpyxl's default\n",
      "  warn(\"Workbook contains no default style, apply openpyxl's default\")\n"
     ]
    }
   ],
   "source": [
    "df = pd.read_excel(file, dtype={'Strona transakcji': str})"
   ]
  },
  {
   "cell_type": "code",
   "execution_count": 5,
   "metadata": {},
   "outputs": [],
   "source": [
    "def get_acc_number(rachunek):\n",
    "    # Define the mapping dictionary\n",
    "    mapping = {\n",
    "        '2248': '001', '2475': '002', '1123': '003', '5899': '004', '1107': '005',\n",
    "        '2497': '006', '2516': '007', '0668': '009', '5898': '010', '7200': '011',\n",
    "        '0460': '012', '2474': '013', '6916': '018', '5195': '019', '0002': '020',\n",
    "        '0001': '021', '0007': '022'\n",
    "    }\n",
    "    \n",
    "    # Extract the last 4 digits\n",
    "    last_four_digits = rachunek[-4:]\n",
    "    \n",
    "    # Get the corresponding 3-digit code\n",
    "    code = mapping.get(last_four_digits, 'Unknown')\n",
    "    \n",
    "    # Construct the Journal Batch Name and Bal. Account No.\n",
    "    journal_batch_name = f'IMPORT-{code}'\n",
    "    bal_account_no = code\n",
    "    \n",
    "    return journal_batch_name, bal_account_no"
   ]
  },
  {
   "cell_type": "code",
   "execution_count": 6,
   "metadata": {},
   "outputs": [],
   "source": [
    "REZ = r'(^|\\b|\\D|00000)(1( *\\d){6})(\\D|\\b)'\n",
    "\n",
    "def find_reservation(text):\n",
    "    rezerwacje = re.findall(REZ, text)\n",
    "    \n",
    "    if len(rezerwacje) == 1 or (len(rezerwacje) == 2 and rezerwacje[0][1].replace(' ', '') == rezerwacje[1][1].replace(' ', '')):\n",
    "        return rezerwacje[0][1].replace(' ', '')\n",
    "    else:\n",
    "        return ''"
   ]
  },
  {
   "cell_type": "code",
   "execution_count": 7,
   "metadata": {},
   "outputs": [],
   "source": [
    "def get_payment_side(row):\n",
    "    if row['Nr konta przeciwst.'] == '010':\n",
    "        if row['Reservation No.'] != '':\n",
    "            if row['Kwota'] < 0:\n",
    "                result = ('Nabywca', 'Płatność')\n",
    "            result = ('Nabywca', 'Zwrot')\n",
    "        elif row['Kwota'] < 0:\n",
    "                result = ('Dostawca', 'Zwrot')\n",
    "        else:\n",
    "            result = ('Dostawca', 'Płatność')\n",
    "    elif row['Nr konta przeciwst.'] == '009':\n",
    "        result = ('Konto K/G', 'Płatność')\n",
    "    else:\n",
    "        if row['Kwota'] < 0:\n",
    "            result = ('Nabywca', 'Płatność')\n",
    "        else:\n",
    "            result = ('Dostawca', 'Płatność')\n",
    "    return result"
   ]
  },
  {
   "cell_type": "code",
   "execution_count": 8,
   "metadata": {},
   "outputs": [],
   "source": [
    "# df2 = pd.DataFrame(index=df.index, columns=[\n",
    "#     'Journal Template Name', 'Journal Batch Name', 'Line No.', 'Posting Date', \n",
    "#     'Document Type', 'Account Type', 'Document No.', 'External Document No.', \n",
    "#     'Reservation No.', 'Amount', 'Message to Recipient', 'Payer Information', \n",
    "#     'Bal. Account Type', 'Bal. Account No.'\n",
    "# ])\n",
    "# df2['Journal Template Name'] = 'PŁATNOŚCI'\n",
    "# df2['Journal Batch Name'] = df['Rachunek'].apply(lambda x: get_acc_number(x)[0])\n",
    "# df2['Line No.'] = [START_LINE + i + 1 for i in range(len(df))]\n",
    "# df2['Posting Date'] = df['Data księgowania']\n",
    "# df2['Document No.'] = [f'imp/{CURR_DATE}/{i+1:04d}' for i in range(len(df))]\n",
    "# df2['External Document No.'] = df2['Document No.']\n",
    "# df2['Reservation No.'] = df['Tytuł'].apply(find_reservation).replace(' ', '')\n",
    "# df2['Amount'] = -df['Kwota']\n",
    "# df2['Message to Recipient'] = df['Tytuł']\n",
    "# df2['Payer Information'] = df['Strona transakcji'].apply(lambda x: x[:50] if isinstance(x, str) else ' ')\n",
    "# df2['Bal. Account Type'] = 'Bank Account'\n",
    "# df2['Bal. Account No.'] = df['Rachunek'].apply(lambda x: get_acc_number(x)[1])\n",
    "# df2[['Account Type', 'Document Type']] = df2.apply(lambda row: pd.Series(get_payment_side(row)), axis=1)"
   ]
  },
  {
   "cell_type": "code",
   "execution_count": null,
   "metadata": {},
   "outputs": [
    {
     "ename": "KeyError",
     "evalue": "'Wiadomość dla odbiorcy'",
     "output_type": "error",
     "traceback": [
      "\u001b[1;31m---------------------------------------------------------------------------\u001b[0m",
      "\u001b[1;31mKeyError\u001b[0m                                  Traceback (most recent call last)",
      "File \u001b[1;32mc:\\Users\\Kamil Tomaszek\\Desktop\\OREX\\repo\\banki\\.venv\\Lib\\site-packages\\pandas\\core\\indexes\\base.py:3805\u001b[0m, in \u001b[0;36mIndex.get_loc\u001b[1;34m(self, key)\u001b[0m\n\u001b[0;32m   3804\u001b[0m \u001b[38;5;28;01mtry\u001b[39;00m:\n\u001b[1;32m-> 3805\u001b[0m     \u001b[38;5;28;01mreturn\u001b[39;00m \u001b[38;5;28;43mself\u001b[39;49m\u001b[38;5;241;43m.\u001b[39;49m\u001b[43m_engine\u001b[49m\u001b[38;5;241;43m.\u001b[39;49m\u001b[43mget_loc\u001b[49m\u001b[43m(\u001b[49m\u001b[43mcasted_key\u001b[49m\u001b[43m)\u001b[49m\n\u001b[0;32m   3806\u001b[0m \u001b[38;5;28;01mexcept\u001b[39;00m \u001b[38;5;167;01mKeyError\u001b[39;00m \u001b[38;5;28;01mas\u001b[39;00m err:\n",
      "File \u001b[1;32mindex.pyx:167\u001b[0m, in \u001b[0;36mpandas._libs.index.IndexEngine.get_loc\u001b[1;34m()\u001b[0m\n",
      "File \u001b[1;32mindex.pyx:196\u001b[0m, in \u001b[0;36mpandas._libs.index.IndexEngine.get_loc\u001b[1;34m()\u001b[0m\n",
      "File \u001b[1;32mpandas\\\\_libs\\\\hashtable_class_helper.pxi:7081\u001b[0m, in \u001b[0;36mpandas._libs.hashtable.PyObjectHashTable.get_item\u001b[1;34m()\u001b[0m\n",
      "File \u001b[1;32mpandas\\\\_libs\\\\hashtable_class_helper.pxi:7089\u001b[0m, in \u001b[0;36mpandas._libs.hashtable.PyObjectHashTable.get_item\u001b[1;34m()\u001b[0m\n",
      "\u001b[1;31mKeyError\u001b[0m: 'Wiadomość dla odbiorcy'",
      "\nThe above exception was the direct cause of the following exception:\n",
      "\u001b[1;31mKeyError\u001b[0m                                  Traceback (most recent call last)",
      "Cell \u001b[1;32mIn[9], line 16\u001b[0m\n\u001b[0;32m     14\u001b[0m df2[\u001b[38;5;124m'\u001b[39m\u001b[38;5;124mKwota\u001b[39m\u001b[38;5;124m'\u001b[39m] \u001b[38;5;241m=\u001b[39m \u001b[38;5;241m-\u001b[39mdf[\u001b[38;5;124m'\u001b[39m\u001b[38;5;124mKwota\u001b[39m\u001b[38;5;124m'\u001b[39m]\n\u001b[0;32m     15\u001b[0m df2[\u001b[38;5;124m'\u001b[39m\u001b[38;5;124mWiadomość dla odbiorcy\u001b[39m\u001b[38;5;124m'\u001b[39m] \u001b[38;5;241m=\u001b[39m df[\u001b[38;5;124m'\u001b[39m\u001b[38;5;124mTytuł\u001b[39m\u001b[38;5;124m'\u001b[39m]\n\u001b[1;32m---> 16\u001b[0m df2[\u001b[38;5;124m'\u001b[39m\u001b[38;5;124mOpis\u001b[39m\u001b[38;5;124m'\u001b[39m] \u001b[38;5;241m=\u001b[39m \u001b[43mdf\u001b[49m\u001b[43m[\u001b[49m\u001b[38;5;124;43m'\u001b[39;49m\u001b[38;5;124;43mWiadomość dla odbiorcy\u001b[39;49m\u001b[38;5;124;43m'\u001b[39;49m\u001b[43m]\u001b[49m\u001b[38;5;241m.\u001b[39mapply(\u001b[38;5;28;01mlambda\u001b[39;00m x: x[:\u001b[38;5;241m100\u001b[39m] \u001b[38;5;28;01mif\u001b[39;00m \u001b[38;5;28misinstance\u001b[39m(x, \u001b[38;5;28mstr\u001b[39m) \u001b[38;5;28;01melse\u001b[39;00m \u001b[38;5;124m'\u001b[39m\u001b[38;5;124m \u001b[39m\u001b[38;5;124m'\u001b[39m)\n\u001b[0;32m     17\u001b[0m df2[\u001b[38;5;124m'\u001b[39m\u001b[38;5;124mInformacje o płatniku\u001b[39m\u001b[38;5;124m'\u001b[39m] \u001b[38;5;241m=\u001b[39m df[\u001b[38;5;124m'\u001b[39m\u001b[38;5;124mStrona transakcji\u001b[39m\u001b[38;5;124m'\u001b[39m]\u001b[38;5;241m.\u001b[39mapply(\u001b[38;5;28;01mlambda\u001b[39;00m x: x[:\u001b[38;5;241m50\u001b[39m] \u001b[38;5;28;01mif\u001b[39;00m \u001b[38;5;28misinstance\u001b[39m(x, \u001b[38;5;28mstr\u001b[39m) \u001b[38;5;28;01melse\u001b[39;00m \u001b[38;5;124m'\u001b[39m\u001b[38;5;124m \u001b[39m\u001b[38;5;124m'\u001b[39m)\n\u001b[0;32m     18\u001b[0m df2[\u001b[38;5;124m'\u001b[39m\u001b[38;5;124mTyp konta przeciwst.\u001b[39m\u001b[38;5;124m'\u001b[39m] \u001b[38;5;241m=\u001b[39m \u001b[38;5;124m'\u001b[39m\u001b[38;5;124mKonto bankowe\u001b[39m\u001b[38;5;124m'\u001b[39m\n",
      "File \u001b[1;32mc:\\Users\\Kamil Tomaszek\\Desktop\\OREX\\repo\\banki\\.venv\\Lib\\site-packages\\pandas\\core\\frame.py:4102\u001b[0m, in \u001b[0;36mDataFrame.__getitem__\u001b[1;34m(self, key)\u001b[0m\n\u001b[0;32m   4100\u001b[0m \u001b[38;5;28;01mif\u001b[39;00m \u001b[38;5;28mself\u001b[39m\u001b[38;5;241m.\u001b[39mcolumns\u001b[38;5;241m.\u001b[39mnlevels \u001b[38;5;241m>\u001b[39m \u001b[38;5;241m1\u001b[39m:\n\u001b[0;32m   4101\u001b[0m     \u001b[38;5;28;01mreturn\u001b[39;00m \u001b[38;5;28mself\u001b[39m\u001b[38;5;241m.\u001b[39m_getitem_multilevel(key)\n\u001b[1;32m-> 4102\u001b[0m indexer \u001b[38;5;241m=\u001b[39m \u001b[38;5;28;43mself\u001b[39;49m\u001b[38;5;241;43m.\u001b[39;49m\u001b[43mcolumns\u001b[49m\u001b[38;5;241;43m.\u001b[39;49m\u001b[43mget_loc\u001b[49m\u001b[43m(\u001b[49m\u001b[43mkey\u001b[49m\u001b[43m)\u001b[49m\n\u001b[0;32m   4103\u001b[0m \u001b[38;5;28;01mif\u001b[39;00m is_integer(indexer):\n\u001b[0;32m   4104\u001b[0m     indexer \u001b[38;5;241m=\u001b[39m [indexer]\n",
      "File \u001b[1;32mc:\\Users\\Kamil Tomaszek\\Desktop\\OREX\\repo\\banki\\.venv\\Lib\\site-packages\\pandas\\core\\indexes\\base.py:3812\u001b[0m, in \u001b[0;36mIndex.get_loc\u001b[1;34m(self, key)\u001b[0m\n\u001b[0;32m   3807\u001b[0m     \u001b[38;5;28;01mif\u001b[39;00m \u001b[38;5;28misinstance\u001b[39m(casted_key, \u001b[38;5;28mslice\u001b[39m) \u001b[38;5;129;01mor\u001b[39;00m (\n\u001b[0;32m   3808\u001b[0m         \u001b[38;5;28misinstance\u001b[39m(casted_key, abc\u001b[38;5;241m.\u001b[39mIterable)\n\u001b[0;32m   3809\u001b[0m         \u001b[38;5;129;01mand\u001b[39;00m \u001b[38;5;28many\u001b[39m(\u001b[38;5;28misinstance\u001b[39m(x, \u001b[38;5;28mslice\u001b[39m) \u001b[38;5;28;01mfor\u001b[39;00m x \u001b[38;5;129;01min\u001b[39;00m casted_key)\n\u001b[0;32m   3810\u001b[0m     ):\n\u001b[0;32m   3811\u001b[0m         \u001b[38;5;28;01mraise\u001b[39;00m InvalidIndexError(key)\n\u001b[1;32m-> 3812\u001b[0m     \u001b[38;5;28;01mraise\u001b[39;00m \u001b[38;5;167;01mKeyError\u001b[39;00m(key) \u001b[38;5;28;01mfrom\u001b[39;00m \u001b[38;5;21;01merr\u001b[39;00m\n\u001b[0;32m   3813\u001b[0m \u001b[38;5;28;01mexcept\u001b[39;00m \u001b[38;5;167;01mTypeError\u001b[39;00m:\n\u001b[0;32m   3814\u001b[0m     \u001b[38;5;66;03m# If we have a listlike key, _check_indexing_error will raise\u001b[39;00m\n\u001b[0;32m   3815\u001b[0m     \u001b[38;5;66;03m#  InvalidIndexError. Otherwise we fall through and re-raise\u001b[39;00m\n\u001b[0;32m   3816\u001b[0m     \u001b[38;5;66;03m#  the TypeError.\u001b[39;00m\n\u001b[0;32m   3817\u001b[0m     \u001b[38;5;28mself\u001b[39m\u001b[38;5;241m.\u001b[39m_check_indexing_error(key)\n",
      "\u001b[1;31mKeyError\u001b[0m: 'Wiadomość dla odbiorcy'"
     ]
    }
   ],
   "source": [
    "df2 = pd.DataFrame(index=df.index, columns=[\n",
    "    'Nazwa szablonu dziennika', 'Nazwa instancji dziennika', 'Nr wiersza', 'Typ konta', 'Nr konta', 'Data księgowania',\n",
    "    'Typ dokumentu', 'Nr dokumentu', 'Typ konta przeciwst.', 'Nr konta przeciwst.', 'Nr dokumentu zewnętrznego', 'Kwota',\n",
    "    'Wiadomość dla odbiorcy', 'Opis', 'Informacje o płatniku', 'Reservation No.'\n",
    "])\n",
    "\n",
    "df2['Nazwa szablonu dziennika'] = 'PŁATNOŚCI'\n",
    "df2['Nazwa instancji dziennika'] = df['Rachunek'].apply(lambda x: get_acc_number(x)[0])\n",
    "df2['Nr wiersza'] = [START_LINE + i + 1 for i in range(len(df))]\n",
    "df2['Data księgowania'] = df['Data księgowania']\n",
    "df2['Nr dokumentu'] = [f'imp/{CURR_DATE}/{i+1:04d}' for i in range(len(df))]\n",
    "df2['Nr dokumentu zewnętrznego'] = df2['Nr dokumentu']\n",
    "df2['Reservation No.'] = df['Tytuł'].apply(find_reservation).replace(' ', '')\n",
    "df2['Kwota'] = -df['Kwota']\n",
    "df2['Wiadomość dla odbiorcy'] = df['Tytuł']\n",
    "df2['Opis'] = df2['Wiadomość dla odbiorcy'].apply(lambda x: x[:100] if isinstance(x, str) else ' ')\n",
    "df2['Informacje o płatniku'] = df['Strona transakcji'].apply(lambda x: x[:50] if isinstance(x, str) else ' ')\n",
    "df2['Typ konta przeciwst.'] = 'Konto bankowe'\n",
    "df2['Nr konta przeciwst.'] = df['Rachunek'].apply(lambda x: get_acc_number(x)[1])\n",
    "df2[['Typ konta', 'Typ dokumentu']] = df2.apply(lambda row: pd.Series(get_payment_side(row)), axis=1)"
   ]
  },
  {
   "cell_type": "code",
   "execution_count": 29,
   "metadata": {},
   "outputs": [],
   "source": [
    "# to excel \n",
    "df2.to_excel('import_output.xlsx', index=False)"
   ]
  },
  {
   "cell_type": "code",
   "execution_count": 30,
   "metadata": {},
   "outputs": [],
   "source": [
    "# save to json the latest START_LINE + len(df) + 1\n",
    "with open('last_line.txt', 'w') as f:\n",
    "    f.write(str(START_LINE + len(df) + 1))"
   ]
  }
 ],
 "metadata": {
  "kernelspec": {
   "display_name": ".venv",
   "language": "python",
   "name": "python3"
  },
  "language_info": {
   "codemirror_mode": {
    "name": "ipython",
    "version": 3
   },
   "file_extension": ".py",
   "mimetype": "text/x-python",
   "name": "python",
   "nbconvert_exporter": "python",
   "pygments_lexer": "ipython3",
   "version": "3.12.6"
  }
 },
 "nbformat": 4,
 "nbformat_minor": 2
}
