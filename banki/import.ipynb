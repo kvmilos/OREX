{
 "cells": [
  {
   "cell_type": "code",
   "execution_count": 1,
   "metadata": {},
   "outputs": [],
   "source": [
    "import pandas as pd\n",
    "import re"
   ]
  },
  {
   "cell_type": "code",
   "execution_count": 2,
   "metadata": {},
   "outputs": [],
   "source": [
    "# read start line from last_line.txt\n",
    "with open('last_line.txt', 'r') as f:\n",
    "    START_LINE = int(f.read())\n",
    "CURR_DATE = '241022'"
   ]
  },
  {
   "cell_type": "code",
   "execution_count": 3,
   "metadata": {},
   "outputs": [],
   "source": [
    "file = 'import.xlsx'"
   ]
  },
  {
   "cell_type": "code",
   "execution_count": 4,
   "metadata": {},
   "outputs": [
    {
     "name": "stderr",
     "output_type": "stream",
     "text": [
      "c:\\Users\\Kamil Tomaszek\\Desktop\\OREX\\repo\\banki\\.venv\\Lib\\site-packages\\openpyxl\\styles\\stylesheet.py:237: UserWarning: Workbook contains no default style, apply openpyxl's default\n",
      "  warn(\"Workbook contains no default style, apply openpyxl's default\")\n"
     ]
    }
   ],
   "source": [
    "df = pd.read_excel(file, dtype={'Strona transakcji': str})"
   ]
  },
  {
   "cell_type": "code",
   "execution_count": 5,
   "metadata": {},
   "outputs": [],
   "source": [
    "def get_acc_number(rachunek):\n",
    "    # Define the mapping dictionary\n",
    "    mapping = {\n",
    "        '2248': '001', '2475': '002', '1123': '003', '5899': '004', '1107': '005',\n",
    "        '2497': '006', '2516': '007', '0668': '009', '5898': '010', '7200': '011',\n",
    "        '0460': '012', '2474': '013', '6916': '018', '5195': '019', '0002': '020',\n",
    "        '0001': '021', '0007': '022'\n",
    "    }\n",
    "    \n",
    "    # Extract the last 4 digits\n",
    "    last_four_digits = rachunek[-4:]\n",
    "    \n",
    "    # Get the corresponding 3-digit code\n",
    "    code = mapping.get(last_four_digits, 'Unknown')\n",
    "    \n",
    "    # Construct the Journal Batch Name and Bal. Account No.\n",
    "    journal_batch_name = f'IMPORT-{code}'\n",
    "    bal_account_no = code\n",
    "    \n",
    "    return journal_batch_name, bal_account_no"
   ]
  },
  {
   "cell_type": "code",
   "execution_count": 6,
   "metadata": {},
   "outputs": [],
   "source": [
    "REZ = r'(^|\\b|\\D|00000)(1( *\\d){6})(\\D|\\b)'\n",
    "\n",
    "def find_reservation(text):\n",
    "    rezerwacje = re.findall(REZ, text)\n",
    "    \n",
    "    if len(rezerwacje) == 1 or (len(rezerwacje) == 2 and rezerwacje[0][1].replace(' ', '') == rezerwacje[1][1].replace(' ', '')):\n",
    "        return rezerwacje[0][1].replace(' ', '')\n",
    "    else:\n",
    "        return ''"
   ]
  },
  {
   "cell_type": "code",
   "execution_count": 7,
   "metadata": {},
   "outputs": [],
   "source": [
    "def get_payment_side(row):\n",
    "    if row['Bal. Account No.'] == '010':\n",
    "        if row['Reservation No.'] != '':\n",
    "            if row['Amount'] < 0:\n",
    "                result = ('Customer', 'Payment')\n",
    "            result = ('Customer', 'Refund')\n",
    "        elif row['Amount'] < 0:\n",
    "                result = ('Vendor', 'Refund')\n",
    "        else:\n",
    "            result = ('Vendor', 'Payment')\n",
    "    elif row['Bal. Account No.'] == '009':\n",
    "        result = ('G/L Account', 'Payment')\n",
    "    else:\n",
    "        if row['Amount'] < 0:\n",
    "            result = ('Customer', 'Payment')\n",
    "        else:\n",
    "            result = ('Vendor', 'Payment')\n",
    "    return result"
   ]
  },
  {
   "cell_type": "code",
   "execution_count": 8,
   "metadata": {},
   "outputs": [],
   "source": [
    "df2 = pd.DataFrame(index=df.index, columns=[\n",
    "    'Journal Template Name', 'Journal Batch Name', 'Line No.', 'Posting Date', \n",
    "    'Document Type', 'Account Type', 'Document No.', 'External Document No.', \n",
    "    'Reservation No.', 'Amount', 'Message to Recipient', 'Payer Information', \n",
    "    'Bal. Account Type', 'Bal. Account No.'\n",
    "])\n",
    "df2['Journal Template Name'] = 'PŁATNOŚCI'\n",
    "df2['Journal Batch Name'] = df['Rachunek'].apply(lambda x: get_acc_number(x)[0])\n",
    "df2['Line No.'] = [START_LINE + i + 1 for i in range(len(df))]\n",
    "df2['Posting Date'] = df['Data księgowania']\n",
    "df2['Document No.'] = [f'imp/{CURR_DATE}/{i+1:04d}' for i in range(len(df))]\n",
    "df2['External Document No.'] = df2['Document No.']\n",
    "df2['Reservation No.'] = df['Tytuł'].apply(find_reservation).replace(' ', '')\n",
    "df2['Amount'] = -df['Kwota']\n",
    "df2['Message to Recipient'] = df['Tytuł']\n",
    "df2['Payer Information'] = df['Strona transakcji'].apply(lambda x: x[:50] if isinstance(x, str) else ' ')\n",
    "df2['Bal. Account Type'] = 'Bank Account'\n",
    "df2['Bal. Account No.'] = df['Rachunek'].apply(lambda x: get_acc_number(x)[1])\n",
    "df2[['Account Type', 'Document Type']] = df2.apply(lambda row: pd.Series(get_payment_side(row)), axis=1)"
   ]
  },
  {
   "cell_type": "code",
   "execution_count": 9,
   "metadata": {},
   "outputs": [],
   "source": [
    "# to excel \n",
    "df2.to_excel('import_output.xlsx', index=False)"
   ]
  },
  {
   "cell_type": "code",
   "execution_count": 10,
   "metadata": {},
   "outputs": [],
   "source": [
    "# save to json the latest START_LINE + len(df) + 1\n",
    "with open('last_line.txt', 'w') as f:\n",
    "    f.write(str(START_LINE + len(df) + 1))"
   ]
  }
 ],
 "metadata": {
  "kernelspec": {
   "display_name": ".venv",
   "language": "python",
   "name": "python3"
  },
  "language_info": {
   "codemirror_mode": {
    "name": "ipython",
    "version": 3
   },
   "file_extension": ".py",
   "mimetype": "text/x-python",
   "name": "python",
   "nbconvert_exporter": "python",
   "pygments_lexer": "ipython3",
   "version": "3.12.6"
  }
 },
 "nbformat": 4,
 "nbformat_minor": 2
}
