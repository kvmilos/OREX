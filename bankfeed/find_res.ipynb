{
 "cells": [
  {
   "cell_type": "code",
   "execution_count": 24,
   "metadata": {},
   "outputs": [],
   "source": [
    "import pandas as pd\n",
    "import re"
   ]
  },
  {
   "cell_type": "code",
   "execution_count": 25,
   "metadata": {},
   "outputs": [],
   "source": [
    "REZ = r'(^|\\b|\\D|00000)(1( *\\d){6})(\\D|\\b)'\n",
    "REZ_Z_KWOTAMI = r'(\\b|\\D|00000)(1\\s*(\\d\\s*){6})(\\D)+((\\d\\s*){1,5}(( ?\\(. ?|,)\\d\\d?)?)(\\D|\\b)'"
   ]
  },
  {
   "cell_type": "code",
   "execution_count": 26,
   "metadata": {},
   "outputs": [],
   "source": [
    "def find_reservation(text):\n",
    "    rezerwacje = re.findall(REZ, text)\n",
    "    if len(rezerwacje) == 1 or len(rezerwacje) == 2 and rezerwacje[0][1].replace(' ', '') == rezerwacje[1][1].replace(' ', ''):\n",
    "        return rezerwacje[0][1].replace(' ', '')\n",
    "    else:\n",
    "        return ''"
   ]
  },
  {
   "cell_type": "code",
   "execution_count": 27,
   "metadata": {},
   "outputs": [],
   "source": [
    "def change_names(text):\n",
    "    rezerwacje = re.findall(REZ, text)\n",
    "    if len(rezerwacje) > 1:\n",
    "        rezerwacje2 = re.findall(REZ_Z_KWOTAMI, text)\n",
    "        if len(rezerwacje2) > 1:\n",
    "            res = ''\n",
    "            for r in rezerwacje2:\n",
    "                try:\n",
    "                    res += r[1].replace(' ', '') + '-' + r[4].replace(' ', '') + ';'\n",
    "                except:\n",
    "                    return text\n",
    "            return res[:-1]\n",
    "        else: \n",
    "            return text\n",
    "    else:\n",
    "        return text"
   ]
  },
  {
   "cell_type": "code",
   "execution_count": 28,
   "metadata": {},
   "outputs": [
    {
     "name": "stdout",
     "output_type": "stream",
     "text": [
      "module 'numpy' has no attribute 'matrix'\n",
      "                                                    0\n",
      "0                                     Przelew środków\n",
      "1                                     Przelew środków\n",
      "2   ZAPŁATA rez.1428440klient ADRIAN DOMINhotel PR...\n",
      "3   OPŁATA ZA NUMER REZERWACJI: 1428999WŁODARCZYK ...\n",
      "4   Wakacje PlMichalina i Adam KachelUl Leśna 2944...\n",
      "5   Numer rezerwacji: 1430313Aneta Bieńko-Łukasiew...\n",
      "6                 1426239//12675.00;1426169//3425.00;\n",
      "7   1414671//3920.00; 1427007//6660.00;1425693//19...\n",
      "8                 1427717//4220.00; 1427590//9265.00;\n",
      "9                              Zgodnie z zestawieniem\n",
      "10                         REZERWACJA NE1429979TURCJA\n",
      "11                                         rez1379524\n",
      "12             numer rezerwacji 1365930Marcin Głuszek\n",
      "13                              OREX_1422343-P.Noszka\n",
      "14  Rozszerzenia ubezpieczenia Beata Rabuszko, Mic...\n",
      "15  1429212//1858.75;1429046//1301.25;1429056//130...\n",
      "16   1383336//3326.25; 1321837//40.00;1321813//40.00;\n",
      "17  1426198//1726.25; 1426203//1726.25;1426240//13...\n",
      "18  1427089//7030.00; 1425640//9155.00;1425634//91...\n",
      "19  1425589//9155.00; 1425413//11140.00; 1425696//...\n",
      "20                                  12179398Krzywonos\n",
      "21                                  1425596Piotrowska\n",
      "22  DOPŁATA TURCJA NR REZERWACJI1362804 ZOFIA SOLI...\n",
      "23                Druga Zaliczka nr rezerwacji1427884\n",
      "24  POZOSTALA DOPŁATA DO ZALICZKI MONARCHA, ZIELINSKI\n",
      "25  NR REZERWACJI: 1412496DARIUSZ FRANCISZEK MŁYNA...\n",
      "26                rezerwacja nr 1425787K-r - prowizja\n",
      "27               Magdalena Nitkowska wycieczka9370670\n",
      "28                              Przelew krajowy - tur\n",
      "29                              Przelew krajowy - tur\n",
      "30                                    Nr rez 142 9002\n",
      "31  1428060//5400.00; 1427676//3485.00;1427203//36...\n",
      "32  1428097//1000.00; 1427457//1172.50;1427454//11...\n",
      "33  1375692//2292.50; 1398213//3326.25;1398181//33...\n",
      "34  1424143//1448.75; 1425342//6680.00;1425376//60...\n",
      "35  1386439//3615;1419465//5415;1419456//5415;1419...\n",
      "36  REZ. 1369941(3655) MĄKOSZA TER. 07.10.2024 REZ...\n",
      "37                        1429804//7205;1429812//6015\n",
      "38  1425174//1422.5;1425663//1427.5;1427826//4350;...\n",
      "39  ALL 29834.25/NR.0000311936KOM.0.00/DAT.17.09.2...\n",
      "40        1422202-4593,75; 1425682-2775;1346734-5550;\n",
      "41  1428182//7850.00;1428668//3990.00;1403967//578...\n",
      "42                                            Dopłata\n",
      "                                                 from\n",
      "0                                     Przelew środków\n",
      "1                                     Przelew środków\n",
      "2   ZAPŁATA rez.1428440klient ADRIAN DOMINhotel PR...\n",
      "3   OPŁATA ZA NUMER REZERWACJI: 1428999WŁODARCZYK ...\n",
      "4   Wakacje PlMichalina i Adam KachelUl Leśna 2944...\n",
      "5   Numer rezerwacji: 1430313Aneta Bieńko-Łukasiew...\n",
      "6                 1426239//12675.00;1426169//3425.00;\n",
      "7   1414671//3920.00; 1427007//6660.00;1425693//19...\n",
      "8                 1427717//4220.00; 1427590//9265.00;\n",
      "9                              Zgodnie z zestawieniem\n",
      "10                         REZERWACJA NE1429979TURCJA\n",
      "11                                         rez1379524\n",
      "12             numer rezerwacji 1365930Marcin Głuszek\n",
      "13                              OREX_1422343-P.Noszka\n",
      "14  Rozszerzenia ubezpieczenia Beata Rabuszko, Mic...\n",
      "15  1429212//1858.75;1429046//1301.25;1429056//130...\n",
      "16   1383336//3326.25; 1321837//40.00;1321813//40.00;\n",
      "17  1426198//1726.25; 1426203//1726.25;1426240//13...\n",
      "18  1427089//7030.00; 1425640//9155.00;1425634//91...\n",
      "19  1425589//9155.00; 1425413//11140.00; 1425696//...\n",
      "20                                  12179398Krzywonos\n",
      "21                                  1425596Piotrowska\n",
      "22  DOPŁATA TURCJA NR REZERWACJI1362804 ZOFIA SOLI...\n",
      "23                Druga Zaliczka nr rezerwacji1427884\n",
      "24  POZOSTALA DOPŁATA DO ZALICZKI MONARCHA, ZIELINSKI\n",
      "25  NR REZERWACJI: 1412496DARIUSZ FRANCISZEK MŁYNA...\n",
      "26                rezerwacja nr 1425787K-r - prowizja\n",
      "27               Magdalena Nitkowska wycieczka9370670\n",
      "28                              Przelew krajowy - tur\n",
      "29                              Przelew krajowy - tur\n",
      "30                                    Nr rez 142 9002\n",
      "31  1428060//5400.00; 1427676//3485.00;1427203//36...\n",
      "32  1428097//1000.00; 1427457//1172.50;1427454//11...\n",
      "33  1375692//2292.50; 1398213//3326.25;1398181//33...\n",
      "34  1424143//1448.75; 1425342//6680.00;1425376//60...\n",
      "35  1386439//3615;1419465//5415;1419456//5415;1419...\n",
      "36  REZ. 1369941(3655) MĄKOSZA TER. 07.10.2024 REZ...\n",
      "37                        1429804//7205;1429812//6015\n",
      "38  1425174//1422.5;1425663//1427.5;1427826//4350;...\n",
      "39  ALL 29834.25/NR.0000311936KOM.0.00/DAT.17.09.2...\n",
      "40        1422202-4593,75; 1425682-2775;1346734-5550;\n",
      "41  1428182//7850.00;1428668//3990.00;1403967//578...\n",
      "42                                            Dopłata\n"
     ]
    }
   ],
   "source": [
    "try:\n",
    "    df = pd.read_excel('rez.xlsx', header=None)\n",
    "    df2 = df.copy()\n",
    "    df2.columns = ['from']\n",
    "    df2['from'] = df2['from'].astype(str)\n",
    "    df2['to'] = df2['from'].apply(find_reservation).replace(' ', '')\n",
    "    df2['changed'] = df2['from'].apply(change_names)\n",
    "except Exception as e:\n",
    "    print(e)\n",
    "    print(df)\n",
    "    print(df2)"
   ]
  },
  {
   "cell_type": "code",
   "execution_count": 6,
   "metadata": {},
   "outputs": [],
   "source": [
    "# save df2 in znalezione_rez.xlsx\n",
    "df2.to_excel('znalezione_rez.xlsx', index=False, header=False)"
   ]
  },
  {
   "cell_type": "markdown",
   "metadata": {},
   "source": []
  },
  {
   "cell_type": "markdown",
   "metadata": {},
   "source": [
    "\\b\\d{7}\\b"
   ]
  },
  {
   "cell_type": "markdown",
   "metadata": {},
   "source": [
    "(^|\\b|\\D)(1( *\\d){6})(\\D|\\b)"
   ]
  }
 ],
 "metadata": {
  "kernelspec": {
   "display_name": ".venv",
   "language": "python",
   "name": "python3"
  },
  "language_info": {
   "codemirror_mode": {
    "name": "ipython",
    "version": 3
   },
   "file_extension": ".py",
   "mimetype": "text/x-python",
   "name": "python",
   "nbconvert_exporter": "python",
   "pygments_lexer": "ipython3",
   "version": "3.11.9"
  }
 },
 "nbformat": 4,
 "nbformat_minor": 2
}
