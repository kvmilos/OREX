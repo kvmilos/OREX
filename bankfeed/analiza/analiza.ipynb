{
 "cells": [
  {
   "cell_type": "markdown",
   "metadata": {},
   "source": [
    "## All"
   ]
  },
  {
   "cell_type": "code",
   "execution_count": 45,
   "metadata": {},
   "outputs": [],
   "source": [
    "plik = '2475'"
   ]
  },
  {
   "cell_type": "code",
   "execution_count": 46,
   "metadata": {},
   "outputs": [],
   "source": [
    "import pandas as pd\n",
    "from decimal import Decimal, ROUND_HALF_UP"
   ]
  },
  {
   "cell_type": "code",
   "execution_count": 47,
   "metadata": {},
   "outputs": [],
   "source": [
    "def format_to_two_decimals(value):\n",
    "    return Decimal(value).quantize(Decimal('0.01'), rounding=ROUND_HALF_UP)"
   ]
  },
  {
   "cell_type": "code",
   "execution_count": 48,
   "metadata": {},
   "outputs": [],
   "source": [
    "bc = pd.read_excel(f'{plik}.xlsx', sheet_name='BC', header=0)\n",
    "# column 'data' is a date column\n",
    "# bc['debet'] and bc['kredyt'] are decimals - but some of them contain spaces or other white characters inside. ignore these characters\n",
    "bc['data'] = pd.to_datetime(bc['data'], format='%Y-%m-%d')\n",
    "bc['debet'] = bc['debet'].astype(str)\n",
    "bc['kredyt'] = bc['kredyt'].astype(str)\n",
    "bc['debet'] = bc['debet'].str.replace(r'\\s', '', regex=True)\n",
    "bc['debet'] = bc['debet'].str.replace(r',', '.', regex=True)\n",
    "bc['kredyt'] = bc['kredyt'].str.replace(r'\\s', '', regex=True)\n",
    "bc['kredyt'] = bc['kredyt'].str.replace(r',', '.', regex=True)\n",
    "bc['debet'] = bc['debet'].apply(lambda x: format_to_two_decimals(x) if x else Decimal('0'))\n",
    "bc['kredyt'] = bc['kredyt'].apply(lambda x: format_to_two_decimals(x) if x else Decimal('0'))"
   ]
  },
  {
   "cell_type": "markdown",
   "metadata": {},
   "source": [
    "## Santander"
   ]
  },
  {
   "cell_type": "code",
   "execution_count": 49,
   "metadata": {},
   "outputs": [],
   "source": [
    "bank = pd.read_excel(f'{plik}.xlsx', sheet_name='bank', header=0)"
   ]
  },
  {
   "cell_type": "code",
   "execution_count": 50,
   "metadata": {},
   "outputs": [
    {
     "data": {
      "text/html": [
       "<div>\n",
       "<style scoped>\n",
       "    .dataframe tbody tr th:only-of-type {\n",
       "        vertical-align: middle;\n",
       "    }\n",
       "\n",
       "    .dataframe tbody tr th {\n",
       "        vertical-align: top;\n",
       "    }\n",
       "\n",
       "    .dataframe thead th {\n",
       "        text-align: right;\n",
       "    }\n",
       "</style>\n",
       "<table border=\"1\" class=\"dataframe\">\n",
       "  <thead>\n",
       "    <tr style=\"text-align: right;\">\n",
       "      <th></th>\n",
       "      <th>Firma</th>\n",
       "      <th>Rachunek</th>\n",
       "      <th>Data księgowania</th>\n",
       "      <th>Data przyjęcia do realizacji</th>\n",
       "      <th>Strona transakcji</th>\n",
       "      <th>Rachunek strony transakcji</th>\n",
       "      <th>Tytuł</th>\n",
       "      <th>Kwota</th>\n",
       "      <th>Waluta</th>\n",
       "      <th>Typ operacji</th>\n",
       "    </tr>\n",
       "  </thead>\n",
       "  <tbody>\n",
       "    <tr>\n",
       "      <th>0</th>\n",
       "      <td>OREX TRAVEL SP Z O O</td>\n",
       "      <td>76 1090 1841 0000 0001 5424 2475</td>\n",
       "      <td>2024-08-21</td>\n",
       "      <td>2024-08-21</td>\n",
       "      <td>PAWEŁ MICHAŁ STEC UL. CICHA 1B/26 67-100 NOWA SÓL</td>\n",
       "      <td>93 1090 1577 0000 0001 4854 1842</td>\n",
       "      <td>1265801 EIN27109000045747000001265801</td>\n",
       "      <td>8644.0</td>\n",
       "      <td>PLN</td>\n",
       "      <td>UZNANIE</td>\n",
       "    </tr>\n",
       "    <tr>\n",
       "      <th>1</th>\n",
       "      <td>OREX TRAVEL SP Z O O</td>\n",
       "      <td>76 1090 1841 0000 0001 5424 2475</td>\n",
       "      <td>2024-08-21</td>\n",
       "      <td>2024-08-21</td>\n",
       "      <td>BIURO PODRÓŻY IWONA IWONA SZUKAŁA-KUŚ UL. GORZ...</td>\n",
       "      <td>17 1090 2138 0000 0001 1216 9318</td>\n",
       "      <td>1261064 EIN80109000045747000001261064</td>\n",
       "      <td>50.0</td>\n",
       "      <td>PLN</td>\n",
       "      <td>UZNANIE</td>\n",
       "    </tr>\n",
       "    <tr>\n",
       "      <th>2</th>\n",
       "      <td>OREX TRAVEL SP Z O O</td>\n",
       "      <td>76 1090 1841 0000 0001 5424 2475</td>\n",
       "      <td>2024-08-21</td>\n",
       "      <td>2024-08-21</td>\n",
       "      <td>BIURO PODRÓŻY IWONA IWONA SZUKAŁA-KUŚ UL. GORZ...</td>\n",
       "      <td>17 1090 2138 0000 0001 1216 9318</td>\n",
       "      <td>1261063 EIN10109000045747000001261063</td>\n",
       "      <td>50.0</td>\n",
       "      <td>PLN</td>\n",
       "      <td>UZNANIE</td>\n",
       "    </tr>\n",
       "    <tr>\n",
       "      <th>3</th>\n",
       "      <td>OREX TRAVEL SP Z O O</td>\n",
       "      <td>76 1090 1841 0000 0001 5424 2475</td>\n",
       "      <td>2024-08-21</td>\n",
       "      <td>2024-08-21</td>\n",
       "      <td>BIURO PODRÓŻY IWONA IWONA SZUKAŁA-KUŚ UL. GORZ...</td>\n",
       "      <td>17 1090 2138 0000 0001 1216 9318</td>\n",
       "      <td>126 1059 EIN21109000045747000001261059</td>\n",
       "      <td>50.0</td>\n",
       "      <td>PLN</td>\n",
       "      <td>UZNANIE</td>\n",
       "    </tr>\n",
       "    <tr>\n",
       "      <th>4</th>\n",
       "      <td>OREX TRAVEL SP Z O O</td>\n",
       "      <td>76 1090 1841 0000 0001 5424 2475</td>\n",
       "      <td>2024-08-21</td>\n",
       "      <td>2024-08-21</td>\n",
       "      <td>CENTRUM USŁUG ROZLICZENIOWYCH</td>\n",
       "      <td>06 1090 0004 0000 0011 7459 0049</td>\n",
       "      <td>2408210857873888REF.PROWIZJA DODATK.DO POLECEN...</td>\n",
       "      <td>-15.0</td>\n",
       "      <td>PLN</td>\n",
       "      <td>OPŁATA/PROWIZJA</td>\n",
       "    </tr>\n",
       "  </tbody>\n",
       "</table>\n",
       "</div>"
      ],
      "text/plain": [
       "                  Firma                          Rachunek Data księgowania  \\\n",
       "0  OREX TRAVEL SP Z O O  76 1090 1841 0000 0001 5424 2475       2024-08-21   \n",
       "1  OREX TRAVEL SP Z O O  76 1090 1841 0000 0001 5424 2475       2024-08-21   \n",
       "2  OREX TRAVEL SP Z O O  76 1090 1841 0000 0001 5424 2475       2024-08-21   \n",
       "3  OREX TRAVEL SP Z O O  76 1090 1841 0000 0001 5424 2475       2024-08-21   \n",
       "4  OREX TRAVEL SP Z O O  76 1090 1841 0000 0001 5424 2475       2024-08-21   \n",
       "\n",
       "  Data przyjęcia do realizacji  \\\n",
       "0                   2024-08-21   \n",
       "1                   2024-08-21   \n",
       "2                   2024-08-21   \n",
       "3                   2024-08-21   \n",
       "4                   2024-08-21   \n",
       "\n",
       "                                   Strona transakcji  \\\n",
       "0  PAWEŁ MICHAŁ STEC UL. CICHA 1B/26 67-100 NOWA SÓL   \n",
       "1  BIURO PODRÓŻY IWONA IWONA SZUKAŁA-KUŚ UL. GORZ...   \n",
       "2  BIURO PODRÓŻY IWONA IWONA SZUKAŁA-KUŚ UL. GORZ...   \n",
       "3  BIURO PODRÓŻY IWONA IWONA SZUKAŁA-KUŚ UL. GORZ...   \n",
       "4                      CENTRUM USŁUG ROZLICZENIOWYCH   \n",
       "\n",
       "         Rachunek strony transakcji  \\\n",
       "0  93 1090 1577 0000 0001 4854 1842   \n",
       "1  17 1090 2138 0000 0001 1216 9318   \n",
       "2  17 1090 2138 0000 0001 1216 9318   \n",
       "3  17 1090 2138 0000 0001 1216 9318   \n",
       "4  06 1090 0004 0000 0011 7459 0049   \n",
       "\n",
       "                                               Tytuł   Kwota Waluta  \\\n",
       "0              1265801 EIN27109000045747000001265801  8644.0    PLN   \n",
       "1              1261064 EIN80109000045747000001261064    50.0    PLN   \n",
       "2              1261063 EIN10109000045747000001261063    50.0    PLN   \n",
       "3             126 1059 EIN21109000045747000001261059    50.0    PLN   \n",
       "4  2408210857873888REF.PROWIZJA DODATK.DO POLECEN...   -15.0    PLN   \n",
       "\n",
       "      Typ operacji  \n",
       "0          UZNANIE  \n",
       "1          UZNANIE  \n",
       "2          UZNANIE  \n",
       "3          UZNANIE  \n",
       "4  OPŁATA/PROWIZJA  "
      ]
     },
     "execution_count": 50,
     "metadata": {},
     "output_type": "execute_result"
    }
   ],
   "source": [
    "bank.head()"
   ]
  },
  {
   "cell_type": "code",
   "execution_count": 51,
   "metadata": {},
   "outputs": [],
   "source": [
    "# add a column to bank 'co' with values: 'uznanie' if 'kwota' is positive, 'obciążenie' if 'kwota' is negative\n",
    "bank['co'] = bank['Kwota'].apply(lambda x: 'uznanie' if x > 0 else 'obciążenie')"
   ]
  },
  {
   "cell_type": "code",
   "execution_count": 52,
   "metadata": {},
   "outputs": [
    {
     "name": "stderr",
     "output_type": "stream",
     "text": [
      "C:\\Users\\Kamil Tomaszek\\AppData\\Local\\Temp\\ipykernel_14920\\2197455804.py:2: DeprecationWarning: DataFrameGroupBy.apply operated on the grouping columns. This behavior is deprecated, and in a future version of pandas the grouping columns will be excluded from the operation. Either pass `include_groups=False` to exclude the groupings or explicitly select the grouping columns after groupby to silence this warning.\n",
      "  sant = bank.groupby('Data księgowania').apply(lambda x: pd.Series({'Uznania': x[x['co'] == 'uznanie']['Kwota'].sum(), 'Obciążenia': x[x['co'] == 'obciążenie']['Kwota'].sum()})).reset_index()\n"
     ]
    }
   ],
   "source": [
    "# create a new dataframe from bank. group by 'Data księgowania' and make 2 columns 'Uznania' and 'Obciążenia' summing up the values of 'Kwota' for column 'co' having value of 'uznanie' or 'obciążenie' respectively\n",
    "sant = bank.groupby('Data księgowania').apply(lambda x: pd.Series({'Uznania': x[x['co'] == 'uznanie']['Kwota'].sum(), 'Obciążenia': x[x['co'] == 'obciążenie']['Kwota'].sum()})).reset_index()"
   ]
  },
  {
   "cell_type": "code",
   "execution_count": 53,
   "metadata": {},
   "outputs": [],
   "source": [
    "sant['Obciążenia'] = sant['Obciążenia'].abs()\n",
    "sant['Uznania'] = sant['Uznania'].apply(lambda x: format_to_two_decimals(x) if x else Decimal('0'))\n",
    "sant['Obciążenia'] = sant['Obciążenia'].apply(lambda x: format_to_two_decimals(x) if x else Decimal('0'))"
   ]
  },
  {
   "cell_type": "code",
   "execution_count": 54,
   "metadata": {},
   "outputs": [],
   "source": [
    "# change type of data in column 'Data księgowania' to datetime\n",
    "sant['Data księgowania'] = pd.to_datetime(sant['Data księgowania'], format='%Y-%m-%d')"
   ]
  },
  {
   "cell_type": "code",
   "execution_count": 55,
   "metadata": {},
   "outputs": [],
   "source": [
    "# now outer merge the two dataframes on the date. let the new dataframe be 'merged' and contain: 'data', 'kredyt_bc', 'debet_bc', 'uznania_bank', 'obciazenia_bank'\n",
    "merged = pd.merge(bc, sant, left_on='data', right_on='Data księgowania', how='outer')\n"
   ]
  },
  {
   "cell_type": "code",
   "execution_count": 56,
   "metadata": {},
   "outputs": [],
   "source": [
    "# change the columns a little bit: i want them in these order: 'data' (which should be 'data' and 'Data Księgowania merged), 'debet_bc', 'obciążenia_bank', 'kredyt_bc', 'uznania_bank'\n",
    "# if data is null in 'data' column, fill it with 'Data księgowania' column\n",
    "merged['data'] = merged['data'].combine_first(merged['Data księgowania'])\n",
    "merged = merged[['data', 'debet', 'kredyt', 'Obciążenia',  'Uznania']]\n",
    "merged.columns = ['data', 'debet_bc', 'kredyt_bc', 'obciazenia_bank', 'uznania_bank']\n",
    "# fill NaNs win last 4 columns with 0\n",
    "merged = merged.fillna(0)"
   ]
  },
  {
   "cell_type": "markdown",
   "metadata": {},
   "source": [
    "## BNP"
   ]
  },
  {
   "cell_type": "code",
   "execution_count": 29,
   "metadata": {},
   "outputs": [],
   "source": [
    "bnp = pd.read_excel(f'{plik}.xlsx', sheet_name='bank', header=0)"
   ]
  },
  {
   "cell_type": "code",
   "execution_count": 30,
   "metadata": {},
   "outputs": [
    {
     "ename": "ValueError",
     "evalue": "Length mismatch: Expected axis has 10 elements, new values have 4 elements",
     "output_type": "error",
     "traceback": [
      "\u001b[1;31m---------------------------------------------------------------------------\u001b[0m",
      "\u001b[1;31mValueError\u001b[0m                                Traceback (most recent call last)",
      "Cell \u001b[1;32mIn[30], line 2\u001b[0m\n\u001b[0;32m      1\u001b[0m \u001b[38;5;66;03m# change colnames to data, Obciążenia, Uznania\u001b[39;00m\n\u001b[1;32m----> 2\u001b[0m \u001b[43mbnp\u001b[49m\u001b[38;5;241;43m.\u001b[39;49m\u001b[43mcolumns\u001b[49m \u001b[38;5;241m=\u001b[39m [\u001b[38;5;124m'\u001b[39m\u001b[38;5;124mdata\u001b[39m\u001b[38;5;124m'\u001b[39m, \u001b[38;5;124m'\u001b[39m\u001b[38;5;124mObciążenia\u001b[39m\u001b[38;5;124m'\u001b[39m, \u001b[38;5;124m'\u001b[39m\u001b[38;5;124mUznania\u001b[39m\u001b[38;5;124m'\u001b[39m, \u001b[38;5;124m'\u001b[39m\u001b[38;5;124mwaluta\u001b[39m\u001b[38;5;124m'\u001b[39m]\n",
      "File \u001b[1;32mc:\\Users\\Kamil Tomaszek\\Desktop\\bankfeed\\.venv\\Lib\\site-packages\\pandas\\core\\generic.py:6313\u001b[0m, in \u001b[0;36mNDFrame.__setattr__\u001b[1;34m(self, name, value)\u001b[0m\n\u001b[0;32m   6311\u001b[0m \u001b[38;5;28;01mtry\u001b[39;00m:\n\u001b[0;32m   6312\u001b[0m     \u001b[38;5;28mobject\u001b[39m\u001b[38;5;241m.\u001b[39m\u001b[38;5;21m__getattribute__\u001b[39m(\u001b[38;5;28mself\u001b[39m, name)\n\u001b[1;32m-> 6313\u001b[0m     \u001b[38;5;28;01mreturn\u001b[39;00m \u001b[38;5;28;43mobject\u001b[39;49m\u001b[38;5;241;43m.\u001b[39;49m\u001b[38;5;21;43m__setattr__\u001b[39;49m\u001b[43m(\u001b[49m\u001b[38;5;28;43mself\u001b[39;49m\u001b[43m,\u001b[49m\u001b[43m \u001b[49m\u001b[43mname\u001b[49m\u001b[43m,\u001b[49m\u001b[43m \u001b[49m\u001b[43mvalue\u001b[49m\u001b[43m)\u001b[49m\n\u001b[0;32m   6314\u001b[0m \u001b[38;5;28;01mexcept\u001b[39;00m \u001b[38;5;167;01mAttributeError\u001b[39;00m:\n\u001b[0;32m   6315\u001b[0m     \u001b[38;5;28;01mpass\u001b[39;00m\n",
      "File \u001b[1;32mproperties.pyx:69\u001b[0m, in \u001b[0;36mpandas._libs.properties.AxisProperty.__set__\u001b[1;34m()\u001b[0m\n",
      "File \u001b[1;32mc:\\Users\\Kamil Tomaszek\\Desktop\\bankfeed\\.venv\\Lib\\site-packages\\pandas\\core\\generic.py:814\u001b[0m, in \u001b[0;36mNDFrame._set_axis\u001b[1;34m(self, axis, labels)\u001b[0m\n\u001b[0;32m    809\u001b[0m \u001b[38;5;250m\u001b[39m\u001b[38;5;124;03m\"\"\"\u001b[39;00m\n\u001b[0;32m    810\u001b[0m \u001b[38;5;124;03mThis is called from the cython code when we set the `index` attribute\u001b[39;00m\n\u001b[0;32m    811\u001b[0m \u001b[38;5;124;03mdirectly, e.g. `series.index = [1, 2, 3]`.\u001b[39;00m\n\u001b[0;32m    812\u001b[0m \u001b[38;5;124;03m\"\"\"\u001b[39;00m\n\u001b[0;32m    813\u001b[0m labels \u001b[38;5;241m=\u001b[39m ensure_index(labels)\n\u001b[1;32m--> 814\u001b[0m \u001b[38;5;28;43mself\u001b[39;49m\u001b[38;5;241;43m.\u001b[39;49m\u001b[43m_mgr\u001b[49m\u001b[38;5;241;43m.\u001b[39;49m\u001b[43mset_axis\u001b[49m\u001b[43m(\u001b[49m\u001b[43maxis\u001b[49m\u001b[43m,\u001b[49m\u001b[43m \u001b[49m\u001b[43mlabels\u001b[49m\u001b[43m)\u001b[49m\n\u001b[0;32m    815\u001b[0m \u001b[38;5;28mself\u001b[39m\u001b[38;5;241m.\u001b[39m_clear_item_cache()\n",
      "File \u001b[1;32mc:\\Users\\Kamil Tomaszek\\Desktop\\bankfeed\\.venv\\Lib\\site-packages\\pandas\\core\\internals\\managers.py:238\u001b[0m, in \u001b[0;36mBaseBlockManager.set_axis\u001b[1;34m(self, axis, new_labels)\u001b[0m\n\u001b[0;32m    236\u001b[0m \u001b[38;5;28;01mdef\u001b[39;00m \u001b[38;5;21mset_axis\u001b[39m(\u001b[38;5;28mself\u001b[39m, axis: AxisInt, new_labels: Index) \u001b[38;5;241m-\u001b[39m\u001b[38;5;241m>\u001b[39m \u001b[38;5;28;01mNone\u001b[39;00m:\n\u001b[0;32m    237\u001b[0m     \u001b[38;5;66;03m# Caller is responsible for ensuring we have an Index object.\u001b[39;00m\n\u001b[1;32m--> 238\u001b[0m     \u001b[38;5;28;43mself\u001b[39;49m\u001b[38;5;241;43m.\u001b[39;49m\u001b[43m_validate_set_axis\u001b[49m\u001b[43m(\u001b[49m\u001b[43maxis\u001b[49m\u001b[43m,\u001b[49m\u001b[43m \u001b[49m\u001b[43mnew_labels\u001b[49m\u001b[43m)\u001b[49m\n\u001b[0;32m    239\u001b[0m     \u001b[38;5;28mself\u001b[39m\u001b[38;5;241m.\u001b[39maxes[axis] \u001b[38;5;241m=\u001b[39m new_labels\n",
      "File \u001b[1;32mc:\\Users\\Kamil Tomaszek\\Desktop\\bankfeed\\.venv\\Lib\\site-packages\\pandas\\core\\internals\\base.py:98\u001b[0m, in \u001b[0;36mDataManager._validate_set_axis\u001b[1;34m(self, axis, new_labels)\u001b[0m\n\u001b[0;32m     95\u001b[0m     \u001b[38;5;28;01mpass\u001b[39;00m\n\u001b[0;32m     97\u001b[0m \u001b[38;5;28;01melif\u001b[39;00m new_len \u001b[38;5;241m!=\u001b[39m old_len:\n\u001b[1;32m---> 98\u001b[0m     \u001b[38;5;28;01mraise\u001b[39;00m \u001b[38;5;167;01mValueError\u001b[39;00m(\n\u001b[0;32m     99\u001b[0m         \u001b[38;5;124mf\u001b[39m\u001b[38;5;124m\"\u001b[39m\u001b[38;5;124mLength mismatch: Expected axis has \u001b[39m\u001b[38;5;132;01m{\u001b[39;00mold_len\u001b[38;5;132;01m}\u001b[39;00m\u001b[38;5;124m elements, new \u001b[39m\u001b[38;5;124m\"\u001b[39m\n\u001b[0;32m    100\u001b[0m         \u001b[38;5;124mf\u001b[39m\u001b[38;5;124m\"\u001b[39m\u001b[38;5;124mvalues have \u001b[39m\u001b[38;5;132;01m{\u001b[39;00mnew_len\u001b[38;5;132;01m}\u001b[39;00m\u001b[38;5;124m elements\u001b[39m\u001b[38;5;124m\"\u001b[39m\n\u001b[0;32m    101\u001b[0m     )\n",
      "\u001b[1;31mValueError\u001b[0m: Length mismatch: Expected axis has 10 elements, new values have 4 elements"
     ]
    }
   ],
   "source": [
    "# change colnames to data, Obciążenia, Uznania\n",
    "bnp.columns = ['data', 'Obciążenia', 'Uznania', 'waluta']"
   ]
  },
  {
   "cell_type": "code",
   "execution_count": null,
   "metadata": {},
   "outputs": [],
   "source": [
    "bnp['Obciążenia'] = bnp['Obciążenia'].apply(lambda x: format_to_two_decimals(x) if x else Decimal('0'))\n",
    "bnp['Uznania'] = bnp['Uznania'].apply(lambda x: format_to_two_decimals(x) if x else Decimal('0'))"
   ]
  },
  {
   "cell_type": "code",
   "execution_count": null,
   "metadata": {},
   "outputs": [],
   "source": [
    "merged = pd.merge(bc, bnp, left_on='data', right_on='data', how='outer')"
   ]
  },
  {
   "cell_type": "code",
   "execution_count": null,
   "metadata": {},
   "outputs": [],
   "source": [
    "merged = merged[['data', 'debet', 'kredyt', 'Obciążenia',  'Uznania']]\n",
    "merged.columns = ['data', 'debet_bc', 'kredyt_bc', 'obciazenia_bank', 'uznania_bank']\n",
    "merged = merged.fillna(0)"
   ]
  },
  {
   "cell_type": "markdown",
   "metadata": {},
   "source": [
    "## All"
   ]
  },
  {
   "cell_type": "code",
   "execution_count": 57,
   "metadata": {},
   "outputs": [],
   "source": [
    "# change data format to 'YYYY-MM-DD'\n",
    "merged['data'] = merged['data'].dt.strftime('%Y-%m-%d')"
   ]
  },
  {
   "cell_type": "code",
   "execution_count": 58,
   "metadata": {},
   "outputs": [],
   "source": [
    "# add columns 'debet-obciazenia' and 'kredyt-uznania'\n",
    "merged['debet-obciazenia'] = merged['debet_bc'] - merged['obciazenia_bank']\n",
    "merged['kredyt-uznania'] = merged['kredyt_bc'] - merged['uznania_bank']"
   ]
  },
  {
   "cell_type": "code",
   "execution_count": 59,
   "metadata": {},
   "outputs": [],
   "source": [
    "# save to excel\n",
    "\n",
    "merged.to_excel(f'merged_{plik}.xlsx', index=False)"
   ]
  },
  {
   "cell_type": "code",
   "execution_count": null,
   "metadata": {},
   "outputs": [],
   "source": []
  },
  {
   "cell_type": "code",
   "execution_count": null,
   "metadata": {},
   "outputs": [],
   "source": []
  }
 ],
 "metadata": {
  "kernelspec": {
   "display_name": ".venv",
   "language": "python",
   "name": "python3"
  },
  "language_info": {
   "codemirror_mode": {
    "name": "ipython",
    "version": 3
   },
   "file_extension": ".py",
   "mimetype": "text/x-python",
   "name": "python",
   "nbconvert_exporter": "python",
   "pygments_lexer": "ipython3",
   "version": "3.11.9"
  }
 },
 "nbformat": 4,
 "nbformat_minor": 2
}
