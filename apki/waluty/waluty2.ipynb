{
 "cells": [
  {
   "cell_type": "markdown",
   "metadata": {},
   "source": [
    "### santander"
   ]
  },
  {
   "cell_type": "code",
   "execution_count": 47,
   "metadata": {},
   "outputs": [],
   "source": [
    "import pandas as pd\n",
    "\n",
    "# Load the Excel file\n",
    "file_path = 'updated_006p.xlsx'  # Replace with your file path\n",
    "excel_data = pd.ExcelFile(file_path)\n"
   ]
  },
  {
   "cell_type": "code",
   "execution_count": 48,
   "metadata": {},
   "outputs": [],
   "source": [
    "\n",
    "# Load the relevant sheets\n",
    "pakiet_df = excel_data.parse('pakiet')\n",
    "bc_df = excel_data.parse('kursy')\n"
   ]
  },
  {
   "cell_type": "code",
   "execution_count": 49,
   "metadata": {},
   "outputs": [],
   "source": [
    "# Ensure 'Data księgowania' columns are of the same type (datetime)\n",
    "pakiet_df['Data księgowania'] = pd.to_datetime(pakiet_df['Data księgowania'], errors='coerce').dt.date\n",
    "bc_df['Data księgowania'] = pd.to_datetime(bc_df['Data księgowania'], errors='coerce').dt.date\n",
    "\n",
    "bc_df['Kwota (PLN)'] = -bc_df['Kwota (PLN)']"
   ]
  },
  {
   "cell_type": "code",
   "execution_count": null,
   "metadata": {},
   "outputs": [],
   "source": [
    "pakiet_df.dtypes"
   ]
  },
  {
   "cell_type": "code",
   "execution_count": null,
   "metadata": {},
   "outputs": [],
   "source": [
    "bc_df.dtypes"
   ]
  },
  {
   "cell_type": "code",
   "execution_count": null,
   "metadata": {},
   "outputs": [],
   "source": [
    "\n",
    "# Debug: Check for potential matches between pakiet and bc_valid\n",
    "print(\"Potential matches between 'pakiet' and 'bc_valid':\")\n",
    "matches = pakiet_df.merge(\n",
    "    bc_valid[['Data księgowania', 'Kwota']],\n",
    "    on=['Data księgowania', 'Kwota'],\n",
    "    how='inner'\n",
    ")\n",
    "print(matches)\n"
   ]
  },
  {
   "cell_type": "code",
   "execution_count": null,
   "metadata": {},
   "outputs": [],
   "source": [
    "\n",
    "# Check for duplicates in 'bc' based on 'Data księgowania' and 'Kwota'\n",
    "bc_duplicates = bc_df.duplicated(subset=['Data księgowania', 'Kwota'], keep=False)\n",
    "bc_duplicates\n"
   ]
  },
  {
   "cell_type": "code",
   "execution_count": 53,
   "metadata": {},
   "outputs": [],
   "source": [
    "\n",
    "# Filter valid rows (non-duplicates) in 'bc' sheet\n",
    "bc_valid = bc_df[~bc_duplicates]\n",
    "\n",
    "# Debug: Check filtered valid rows\n",
    "print(\"Filtered valid rows from 'bc':\")\n",
    "print(bc_valid)\n"
   ]
  },
  {
   "cell_type": "code",
   "execution_count": null,
   "metadata": {},
   "outputs": [],
   "source": [
    "\n",
    "# Debug: Check data types in both DataFrames\n",
    "print(\"Data types in 'pakiet':\")\n",
    "print(pakiet_df.dtypes)\n",
    "print(\"\\nData types in 'bc_valid':\")\n",
    "print(bc_valid.dtypes)\n",
    "\n",
    "# Debug: Check unique dates in both DataFrames\n",
    "print(\"Unique 'Data księgowania' in 'pakiet':\", pakiet_df['Data księgowania'].unique())\n",
    "print(\"Unique 'Data księgowania' in 'bc_valid':\", bc_valid['Data księgowania'].unique())\n",
    "\n",
    "# Debug: Check rows in 'pakiet' that didn't merge successfully\n",
    "unmatched = pakiet_df[~pakiet_df['Data księgowania'].isin(bc_valid['Data księgowania'])]\n",
    "print(\"Rows in 'pakiet' with no matching 'Data księgowania' in 'bc_valid':\")\n",
    "print(unmatched)\n",
    "\n",
    "unmatched_kwota = pakiet_df[~pakiet_df['Kwota'].isin(bc_valid['Kwota'])]\n",
    "print(\"Rows in 'pakiet' with no matching 'Kwota' in 'bc_valid':\")\n",
    "print(unmatched_kwota)\n",
    "print(\"Unique 'Data księgowania' in 'bc_valid':\", bc_valid['Data księgowania'].unique())\n"
   ]
  },
  {
   "cell_type": "code",
   "execution_count": 56,
   "metadata": {},
   "outputs": [],
   "source": [
    "\n",
    "# Merge 'pakiet' with valid 'bc' rows based on 'Data księgowania' and 'Kwota', and add 'Kwota (PLN)' column to pakiet from bc's 'kwota_pln)'\n",
    "# merged = pakiet_df.merge(\n",
    "#     bc_valid[['Data księgowania', 'Kwota', 'Kwota (PLN)']],\n",
    "#     on=['Data księgowania', 'Kwota'],\n",
    "#     how='left',\n",
    "#     suffixes=('', '_bc')\n",
    "# )\n",
    "\n",
    "merged = pakiet_df.merge(\n",
    "    bc_valid[['Data księgowania', 'Kwota', 'Kwota (PLN)']],\n",
    "    on=['Data księgowania', 'Kwota'],\n",
    "    how='left',\n",
    "    suffixes=('', '_bc')\n",
    ")\n",
    "\n"
   ]
  },
  {
   "cell_type": "code",
   "execution_count": null,
   "metadata": {},
   "outputs": [],
   "source": [
    "merged"
   ]
  },
  {
   "cell_type": "code",
   "execution_count": null,
   "metadata": {},
   "outputs": [],
   "source": [
    "\n",
    "# Debug: Check the merged result\n",
    "print(\"Merged DataFrame:\")\n",
    "print(merged.head())\n",
    "\n",
    "# Update the specified columns in 'pakiet' from 'bc'\n",
    "pakiet_df['Kwota (PLN)'] = merged['Kwota (PLN)_bc']\n",
    "\n",
    "# Debug: Check if columns were updated\n",
    "print(\"Updated 'pakiet' DataFrame:\")\n",
    "print(pakiet_df.head())\n",
    "\n",
    "# Save the updated 'pakiet' sheet to a new Excel file\n",
    "output_file_path = 'updated_006p3.xlsx'  # Replace with your desired output file path\n",
    "with pd.ExcelWriter(output_file_path, engine='xlsxwriter') as writer:\n",
    "    pakiet_df.to_excel(writer, sheet_name='pakiet', index=False)\n",
    "    bc_df.to_excel(writer, sheet_name='bc', index=False)\n",
    "\n",
    "print(f\"Updated file saved to {output_file_path}\")\n"
   ]
  },
  {
   "cell_type": "markdown",
   "metadata": {},
   "source": [
    "### BNP\n"
   ]
  },
  {
   "cell_type": "code",
   "execution_count": 31,
   "metadata": {},
   "outputs": [],
   "source": [
    "import pandas as pd\n",
    "file = '005.xlsx'\n",
    "excel_data = pd.ExcelFile(file)"
   ]
  },
  {
   "cell_type": "code",
   "execution_count": 28,
   "metadata": {},
   "outputs": [],
   "source": [
    "# close the file\n",
    "excel_data.close()"
   ]
  },
  {
   "cell_type": "code",
   "execution_count": 32,
   "metadata": {},
   "outputs": [],
   "source": [
    "pakiet = excel_data.parse('pakiet')\n",
    "bc = excel_data.parse('bc')"
   ]
  },
  {
   "cell_type": "code",
   "execution_count": 33,
   "metadata": {},
   "outputs": [],
   "source": [
    "pakiet['Data księgowania'] = pd.to_datetime(pakiet['Data księgowania'], errors='coerce').dt.date\n",
    "bc['Data księgowania'] = pd.to_datetime(bc['Data księgowania'], errors='coerce').dt.date"
   ]
  },
  {
   "cell_type": "code",
   "execution_count": 34,
   "metadata": {},
   "outputs": [],
   "source": [
    "bc['Kwota'] = -bc['Kwota']\n",
    "bc['Kwota (PLN)'] = -bc['Kwota (PLN)']"
   ]
  },
  {
   "cell_type": "code",
   "execution_count": null,
   "metadata": {},
   "outputs": [],
   "source": [
    "pakiet"
   ]
  },
  {
   "cell_type": "code",
   "execution_count": null,
   "metadata": {},
   "outputs": [],
   "source": [
    "bc.dtypes"
   ]
  },
  {
   "cell_type": "code",
   "execution_count": 37,
   "metadata": {},
   "outputs": [],
   "source": [
    "bc_duplicates = bc.duplicated(subset=['Data księgowania', 'Kwota'], keep=False)\n",
    "bc_valid = bc[~bc_duplicates]"
   ]
  },
  {
   "cell_type": "code",
   "execution_count": null,
   "metadata": {},
   "outputs": [],
   "source": [
    "bc_valid"
   ]
  },
  {
   "cell_type": "code",
   "execution_count": 39,
   "metadata": {},
   "outputs": [],
   "source": [
    "merged = pakiet.merge(\n",
    "    bc_valid[['Data księgowania', 'Typ dokumentu', 'Typ konta', 'Nr konta', 'Kwota', 'Kwota (PLN)']],\n",
    "                on=['Data księgowania', 'Kwota'],\n",
    "                how='left',\n",
    "                suffixes=('', '_bc')\n",
    ")"
   ]
  },
  {
   "cell_type": "code",
   "execution_count": 40,
   "metadata": {},
   "outputs": [],
   "source": [
    "merged['Typ dokumentu'] = merged['Typ dokumentu_bc']\n",
    "merged['Typ konta'] = merged['Typ konta_bc']\n",
    "merged['Nr konta'] = merged['Nr konta_bc']\n",
    "merged['kwota pln ta sama'] = merged['Kwota (PLN)'] == merged['Kwota (PLN)_bc']"
   ]
  },
  {
   "cell_type": "code",
   "execution_count": null,
   "metadata": {},
   "outputs": [],
   "source": [
    "merged"
   ]
  },
  {
   "cell_type": "code",
   "execution_count": 42,
   "metadata": {},
   "outputs": [],
   "source": [
    "# drop the columns that were added from bc\n",
    "merged.drop(columns=['Typ dokumentu_bc', 'Typ konta_bc', 'Nr konta_bc'], inplace=True)"
   ]
  },
  {
   "cell_type": "code",
   "execution_count": 43,
   "metadata": {},
   "outputs": [],
   "source": [
    "# save to excel\n",
    "output_file_path = 'updated_005.xlsx'\n",
    "with pd.ExcelWriter(output_file_path, engine='xlsxwriter') as writer:\n",
    "    pakiet.to_excel(writer, sheet_name='pakiet', index=False)\n",
    "    bc.to_excel(writer, sheet_name='bc', index=False)\n",
    "    merged.to_excel(writer, sheet_name='merged', index=False)"
   ]
  },
  {
   "cell_type": "code",
   "execution_count": 44,
   "metadata": {},
   "outputs": [],
   "source": [
    "# close\n",
    "excel_data.close()"
   ]
  },
  {
   "cell_type": "code",
   "execution_count": null,
   "metadata": {},
   "outputs": [],
   "source": []
  }
 ],
 "metadata": {
  "kernelspec": {
   "display_name": ".venv",
   "language": "python",
   "name": "python3"
  },
  "language_info": {
   "codemirror_mode": {
    "name": "ipython",
    "version": 3
   },
   "file_extension": ".py",
   "mimetype": "text/x-python",
   "name": "python",
   "nbconvert_exporter": "python",
   "pygments_lexer": "ipython3",
   "version": "3.12.6"
  }
 },
 "nbformat": 4,
 "nbformat_minor": 2
}
