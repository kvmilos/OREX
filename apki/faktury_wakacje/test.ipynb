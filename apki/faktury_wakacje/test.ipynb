{
 "cells": [
  {
   "cell_type": "code",
   "execution_count": 16,
   "metadata": {},
   "outputs": [],
   "source": [
    "import pdfminer\n",
    "import pdfminer.high_level\n",
    "from pdfminer.high_level import extract_pages\n",
    "import re\n",
    "import os\n",
    "import pandas\n",
    "import pprint"
   ]
  },
  {
   "cell_type": "code",
   "execution_count": 17,
   "metadata": {},
   "outputs": [],
   "source": [
    "num_pages = 0\n",
    "text = ''\n",
    "file_names = []\n",
    "for file in os.listdir('.'):\n",
    "    if file.endswith('.pdf'):\n",
    "        with open(file, 'rb') as f:\n",
    "            text += pdfminer.high_level.extract_text(f)\n",
    "        current_num_pages = len(list(extract_pages(file)))\n",
    "        num_pages += current_num_pages\n",
    "        file_names.extend([file] * current_num_pages)\n",
    "pages = text.split('\\x0c')"
   ]
  },
  {
   "cell_type": "code",
   "execution_count": null,
   "metadata": {},
   "outputs": [],
   "source": [
    "pages"
   ]
  },
  {
   "cell_type": "code",
   "execution_count": null,
   "metadata": {},
   "outputs": [],
   "source": [
    "pprint.pprint(pages[0])"
   ]
  },
  {
   "cell_type": "code",
   "execution_count": null,
   "metadata": {},
   "outputs": [],
   "source": [
    "pprint.pprint(pages[-2])"
   ]
  },
  {
   "cell_type": "code",
   "execution_count": null,
   "metadata": {},
   "outputs": [],
   "source": [
    "kor_kor_NUMER = r'Faktura korygująca\\n\\n(.*)'\n",
    "kor_kor_DATA = r'(\\d{4}-\\d{2}-\\d{2}) .*\\ndata i miejsce wystawienia'\n",
    "kor_fak_NUMER = r'Do faktury VAT\\n\\n(.*) z dnia'\n",
    "kor_fak_DATA = r'z dnia (\\d{4}-\\d{2}-\\d{2})'\n",
    "kor_KWOTY_przed = r''\n",
    "kor_KWOTY_kor = r''\n",
    "kor_KWOTY_po = r''\n",
    "kor_fak_REZERWACJA = r''"
   ]
  }
 ],
 "metadata": {
  "kernelspec": {
   "display_name": ".venv",
   "language": "python",
   "name": "python3"
  },
  "language_info": {
   "codemirror_mode": {
    "name": "ipython",
    "version": 3
   },
   "file_extension": ".py",
   "mimetype": "text/x-python",
   "name": "python",
   "nbconvert_exporter": "python",
   "pygments_lexer": "ipython3",
   "version": "3.10.0"
  }
 },
 "nbformat": 4,
 "nbformat_minor": 2
}
