{
 "cells": [
  {
   "cell_type": "code",
   "execution_count": 41,
   "metadata": {},
   "outputs": [],
   "source": [
    "# fak_NUMER = r'data i miejsce wystawienia\\n\\n(.*)\\n'\n",
    "# fak_DATA_WYSTAWIENIA = r'(\\d{4}-\\d{2}-\\d{2}) .*\\ndata i miejsce wystawienia'\n",
    "# fak_KWOTY = r'W tym.*?Brutto(.*?)Razem do'\n",
    "# fak_REZERWACJA = r'Prowizja .* (1\\d{6})'"
   ]
  },
  {
   "cell_type": "code",
   "execution_count": 1,
   "metadata": {},
   "outputs": [],
   "source": [
    "import pdfminer\n",
    "import pdfminer.high_level\n",
    "from pdfminer.high_level import extract_pages\n",
    "import re\n",
    "import os\n",
    "import pandas as pd"
   ]
  },
  {
   "cell_type": "code",
   "execution_count": 98,
   "metadata": {},
   "outputs": [],
   "source": [
    "if not os.path.exists('done_2311'):\n",
    "    os.makedirs('done_2311')"
   ]
  },
  {
   "cell_type": "code",
   "execution_count": null,
   "metadata": {},
   "outputs": [],
   "source": [
    "num_pages = 0\n",
    "texts = []\n",
    "for file in os.listdir('.'):\n",
    "    if file.endswith('.pdf'):\n",
    "        with open(file, 'rb') as f:\n",
    "            texts.append(pdfminer.high_level.extract_text(f))\n",
    "        os.rename(file, 'done_2311/' + file)"
   ]
  },
  {
   "cell_type": "code",
   "execution_count": 101,
   "metadata": {},
   "outputs": [],
   "source": [
    "# split all texts[] into separate columns inside a dataframe, based on he newline\n",
    "df = pd.DataFrame(texts, columns=['text'])\n",
    "df = df.text.str.split('\\n', expand=True)"
   ]
  },
  {
   "cell_type": "code",
   "execution_count": 102,
   "metadata": {},
   "outputs": [],
   "source": [
    "# print dataframe of row 0 and column 34\n",
    "a = df.iloc[1, 35]"
   ]
  },
  {
   "cell_type": "code",
   "execution_count": 103,
   "metadata": {},
   "outputs": [],
   "source": [
    "# if a value in column number 35 is empty, then split the value from column 34 into 2 columns and move the second one to 35. then move the rest of the columns to the right\n",
    "for index, row in df.iterrows():\n",
    "    if row[35] == a:\n",
    "        split_values = str(row[34]).split(' ', 1)\n",
    "        if len(split_values) == 2:\n",
    "            df.at[index, 35] = split_values[1]\n",
    "            for col in range(len(df.columns), 35, -1):\n",
    "                df.at[index, col] = df.at[index, col - 1]\n",
    "            df.at[index, 34] = split_values[0]"
   ]
  },
  {
   "cell_type": "code",
   "execution_count": null,
   "metadata": {},
   "outputs": [],
   "source": [
    "df"
   ]
  },
  {
   "cell_type": "code",
   "execution_count": 105,
   "metadata": {},
   "outputs": [],
   "source": [
    "# drop na columns\n",
    "df = df.dropna(axis=1, how='all')"
   ]
  },
  {
   "cell_type": "code",
   "execution_count": 106,
   "metadata": {},
   "outputs": [],
   "source": [
    "# drop column where the only values are '', ' '\n",
    "df = df.drop(df.columns[(df == '').all()], axis=1)\n",
    "df = df.drop(df.columns[(df == ' ').all()], axis=1)\n",
    "df = df.drop(df.columns[(df == a).all()], axis=1)"
   ]
  },
  {
   "cell_type": "code",
   "execution_count": 107,
   "metadata": {},
   "outputs": [],
   "source": [
    "# remove illigal characters\n",
    "df = df.replace(to_replace=r'\\f', value='', regex=True)"
   ]
  },
  {
   "cell_type": "code",
   "execution_count": 108,
   "metadata": {},
   "outputs": [],
   "source": [
    "# save to excel\n",
    "df.to_excel('output.xlsx', index=False)"
   ]
  },
  {
   "cell_type": "code",
   "execution_count": 52,
   "metadata": {},
   "outputs": [],
   "source": [
    "# dane = [['Mersis No', 'Tax Administration', 'Passenger Name', 'SunExoress Ref No', 'Document No', 'Invoice Date', 'Fee', 'Tax', 'Total']]\n",
    "\n",
    "# for i, page in enumerate(pages):\n",
    "#     if i > 0:\n",
    "#         try:\n",
    "#             if file_names[i] != file_names[i-1]:\n",
    "#                 current_page_number = 1\n",
    "#             else:\n",
    "#                 current_page_number += 1\n",
    "#         except IndexError:\n",
    "#             if i < num_pages:\n",
    "#                 print('IndexError at', i, ', file ', file_names[i-1], 'page', current_page_number)\n",
    "#     try:\n",
    "#         numer = re.search(fak_NUMER, page).group(1)\n",
    "#         data_wystawienia = re.search(fak_DATA_WYSTAWIENIA, page).group(1)\n",
    "#         rezerwacja = re.search(fak_REZERWACJA, page).group(1)\n",
    "#         kwoty = re.search(fak_KWOTY, page, re.DOTALL).group(1).replace(' ', '').replace('\\n', ' ').replace('%', '% ').strip()\n",
    "#         kw2 = [kwota for kwota in kwoty.split(' ') if kwota != '']\n",
    "#         kwota_netto, stawka_vat, kwota_vat, kwota_brutto = kw2\n",
    "#         faktura = numer, data_wystawienia, kwota_netto, stawka_vat, kwota_brutto, rezerwacja, file_names[i], current_page_number\n",
    "#         if rezerwacja not in [item[5] for item in faktury]:\n",
    "#             faktury.append(faktura)\n",
    "#     except AttributeError:\n",
    "#         if i != num_pages:\n",
    "#             print(i+1, 'error')\n",
    "#             faktury.append(['n/a', 'n/a', 'n/a', 'n/a', 'n/a', 'n/a', file_names[i], current_page_number])\n",
    "#     except ValueError:\n",
    "#         faktury.append(['check', 'check', 'check', 'check', 'check', 'check', file_names[i], current_page_number])\n",
    "#         print('you need to check ' + file_names[i], 'page ' + str(current_page_number))\n",
    "\n",
    "# df = pandas.DataFrame(faktury)\n",
    "# df.to_excel('wakacje_excel.xlsx', index=False, header=False)"
   ]
  },
  {
   "cell_type": "code",
   "execution_count": null,
   "metadata": {},
   "outputs": [],
   "source": []
  }
 ],
 "metadata": {
  "kernelspec": {
   "display_name": ".venv",
   "language": "python",
   "name": "python3"
  },
  "language_info": {
   "codemirror_mode": {
    "name": "ipython",
    "version": 3
   },
   "file_extension": ".py",
   "mimetype": "text/x-python",
   "name": "python",
   "nbconvert_exporter": "python",
   "pygments_lexer": "ipython3",
   "version": "3.10.0"
  }
 },
 "nbformat": 4,
 "nbformat_minor": 2
}
