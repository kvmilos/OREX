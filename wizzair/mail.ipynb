{
 "cells": [
  {
   "cell_type": "code",
   "execution_count": 17,
   "metadata": {},
   "outputs": [],
   "source": [
    "# this file is used to download data from mails, from Outlook, from windows\n",
    "\n",
    "import win32com.client\n",
    "import os\n",
    "\n",
    "outlook = win32com.client.Dispatch(\"Outlook.Application\").GetNamespace(\"MAPI\")\n",
    "\n",
    "inbox = outlook.GetDefaultFolder(6) # \"6\" refers to the index of a folder - in this case,"
   ]
  },
  {
   "cell_type": "code",
   "execution_count": null,
   "metadata": {},
   "outputs": [],
   "source": [
    "# show mails in the inbox\n",
    "messages = inbox.Items\n",
    "message = messages.GetLast()"
   ]
  },
  {
   "cell_type": "code",
   "execution_count": null,
   "metadata": {},
   "outputs": [],
   "source": [
    "# all the attachements are emails. \n",
    "for attachment in message.Attachments:\n",
    "    print(attachment.FileName)"
   ]
  },
  {
   "cell_type": "code",
   "execution_count": null,
   "metadata": {},
   "outputs": [],
   "source": [
    "# show the attachments that end in .jpg or .png\n",
    "\n",
    "for attachment in message.Attachments:\n",
    "    if attachment.FileName.endswith(\".msg\"):\n",
    "        print(attachment.FileName)\n",
    "        # save the file to current reposifot    \n",
    "        attachment.SaveASFile(os.getcwd() + '\\\\mails\\\\' + attachment.FileName)\n"
   ]
  },
  {
   "cell_type": "code",
   "execution_count": null,
   "metadata": {},
   "outputs": [],
   "source": [
    "# now, each of those .msg files have attachments, we need to extract them, but only .pdfs - but ALL of the pdfs.\n",
    "\n",
    "for msg in os.listdir(os.getcwd() + '\\\\mails\\\\'):\n",
    "    outlook = win32com.client.Dispatch(\"Outlook.Application\").GetNamespace(\"MAPI\")\n",
    "    msg = outlook.OpenSharedItem(os.getcwd() + '\\\\mails\\\\' + msg)\n",
    "    for attachment in msg.Attachments:\n",
    "        if attachment.FileName.endswith(\".pdf\"):\n",
    "            print(attachment.FileName)\n",
    "            attachment.SaveASFile(os.getcwd() + '\\\\' + attachment.FileName)"
   ]
  },
  {
   "cell_type": "code",
   "execution_count": null,
   "metadata": {},
   "outputs": [],
   "source": []
  }
 ],
 "metadata": {
  "kernelspec": {
   "display_name": ".venv",
   "language": "python",
   "name": "python3"
  },
  "language_info": {
   "codemirror_mode": {
    "name": "ipython",
    "version": 3
   },
   "file_extension": ".py",
   "mimetype": "text/x-python",
   "name": "python",
   "nbconvert_exporter": "python",
   "pygments_lexer": "ipython3",
   "version": "3.10.0"
  }
 },
 "nbformat": 4,
 "nbformat_minor": 2
}
