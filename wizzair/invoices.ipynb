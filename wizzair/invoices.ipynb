{
 "cells": [
  {
   "cell_type": "code",
   "execution_count": 111,
   "metadata": {},
   "outputs": [],
   "source": [
    "import pdfminer, pdfminer.high_level\n",
    "import os, re\n",
    "import pandas as pd"
   ]
  },
  {
   "cell_type": "code",
   "execution_count": 112,
   "metadata": {},
   "outputs": [],
   "source": [
    "# if not os.path.exists('done'):\n",
    "#     os.makedirs('done')"
   ]
  },
  {
   "cell_type": "code",
   "execution_count": 113,
   "metadata": {},
   "outputs": [],
   "source": [
    "num_pages = 0\n",
    "text = ''\n",
    "file_names = []\n",
    "for file in os.listdir('.'):\n",
    "    if file.endswith('.pdf'):\n",
    "        with open(file, 'rb') as f:\n",
    "            text += pdfminer.high_level.extract_text(f)\n",
    "        current_num_pages = len(list(pdfminer.high_level.extract_pages(file)))\n",
    "        num_pages += current_num_pages\n",
    "        file_names.extend([file] * current_num_pages)\n",
    "        # os.rename(file, 'done/' + file)\n",
    "\n",
    "pages = text.split('\\x0c')"
   ]
  },
  {
   "cell_type": "code",
   "execution_count": 114,
   "metadata": {},
   "outputs": [],
   "source": [
    "pages\n",
    "pages = [page for page in pages if page]"
   ]
  },
  {
   "cell_type": "code",
   "execution_count": 115,
   "metadata": {},
   "outputs": [
    {
     "data": {
      "text/plain": [
       "['NUMER FAKTURY |\\n155430471Z\\n\\nDATA TRANSAKCJI\\n2024.07.24\\n\\n SZÁMLASZÁM\\n\\n|\\n\\n TELJESÍTÉS DÁTUMA\\n\\nDATA WYSTAWIENIA |\\n2024.07.25\\n\\n SZÁMLA KELTE\\n\\n AZONOSÍTÓ\\n\\nPNR |\\nSIQ15Q\\n\\nTERMIN PŁATNOŚCI\\n2024.07.24\\n\\n|\\n\\n FIZETÉSI HATÁRIDŐ\\n\\nSTRONA |\\n\\n OLDAL 1 / 1\\n\\nNAZWA SPRZEDAWCY |\\nWizz Air Hungary Légiközlekedési Zrt.\\n\\n SZÁLLÍTÓ NÉV\\n\\nODBIORCA |\\nOREX TRAVEL Sp. Z o.o.\\n\\n VEVŐ NÉV\\n\\n CÍM\\n\\nADRES |\\nBudapest\\nLechner Ödön fasor 6.\\n1095\\n\\n CÍM\\n\\nADRES |\\nWarszawa\\nAleje Jerozolimskie 132\\n02-305\\nPL\\n\\nEU VAT NUMER |\\nHU26648525\\n\\n UNIÓS ADÓSZÁM\\n\\nNIP ODBIORCY |\\n9542736185\\n\\n VEVŐ ADÓSZÁM\\n\\nVAT NUMER |\\n26648525-2-44\\n\\n ADÓSZÁM\\n\\nILOŚĆ\\n\\nMENNY.\\n\\n1,00\\n\\nJEDNOSTKA MIARY\\n\\nCENA JEDN.\\n\\nMÉRTÉKEGYSÉG\\n\\nEGYSÉGÁR\\n\\nVAT%\\n\\nÁFA%\\n\\nKWOTA NETTO\\n\\nVAT\\n\\nKWOTA BRUTTO\\n\\nWALUTA\\n\\nÉRTÉKE ÁFA NÉLKÜL\\n\\nÁTHÁRÍTOTT ÁFA\\n\\nÉRTÉKE ÁFÁVAL\\n\\nPÉNZNEM\\n\\nSztuk / db\\n\\n-40,00\\n\\n0.00 %\\n\\n-40,00\\n\\n0,00\\n\\n-40,00\\n\\nEUR\\n\\nRODZAJ USŁUGI\\nBilet lotniczy / Repülőjegy (KTW-BCN)\\n\\n SZOLGÁLTATÁS\\n\\n|\\n\\nTOTAL |\\n\\n ÖSSZESEN\\n\\n-40,00\\n\\n-40,00\\n\\n0,00\\n\\n-40,00\\n\\nEUR\\n\\nPODSUMOWANIE VAT |\\n\\n ÁFA ÖSSZESÍTŐ\\n\\nVAT%\\nÁFA%\\n\\n0.00 %\\n\\n0.00 %\\n\\nKWOTA NETTO\\nÁFA ALAP\\n\\nKWOTA VAT\\nÁTHÁRÍTOTT ÁFA\\n\\nKWOTA BRUTTO\\nSZÁMLA ÉRTÉK\\n\\nWALUTA\\nPÉNZNEM\\n\\n-40,00\\n\\n-15 607,00\\n\\n0,00\\n\\n0,00\\n\\n-40,00\\n\\n-15 607,00\\n\\nEUR\\n\\nHUF\\n\\nZwolnione z VAT zgodnie z paragrafem 105 wegierskiej ustawy VAT\\nAdómentes az Áfa tv. 105. § alapján\\n\\nA számla közvetített szolgáltatást tartalmaz.\\n\\n',\n",
       " 'NUMER FAKTURY |\\n155431244Z\\n\\nDATA TRANSAKCJI\\n2024.07.24\\n\\n SZÁMLASZÁM\\n\\n|\\n\\n TELJESÍTÉS DÁTUMA\\n\\nDATA WYSTAWIENIA |\\n2024.07.25\\n\\n SZÁMLA KELTE\\n\\n AZONOSÍTÓ\\n\\nPNR |\\nU9BEYE\\n\\nTERMIN PŁATNOŚCI\\n2024.07.24\\n\\n|\\n\\n FIZETÉSI HATÁRIDŐ\\n\\nSTRONA |\\n\\n OLDAL 1 / 1\\n\\nNAZWA SPRZEDAWCY |\\nWizz Air Hungary Légiközlekedési Zrt.\\n\\n SZÁLLÍTÓ NÉV\\n\\nODBIORCA |\\nOREX TRAVEL Sp. Z o.o.\\n\\n VEVŐ NÉV\\n\\n CÍM\\n\\nADRES |\\nBudapest\\nLechner Ödön fasor 6.\\n1095\\n\\n CÍM\\n\\nADRES |\\nWarszawa\\nAleje Jerozolimskie 132\\n02-305\\nPL\\n\\nEU VAT NUMER |\\nHU26648525\\n\\n UNIÓS ADÓSZÁM\\n\\nNIP ODBIORCY |\\n9542736185\\n\\n VEVŐ ADÓSZÁM\\n\\nVAT NUMER |\\n26648525-2-44\\n\\n ADÓSZÁM\\n\\nILOŚĆ\\n\\nMENNY.\\n\\n1,00\\n\\nJEDNOSTKA MIARY\\n\\nCENA JEDN.\\n\\nMÉRTÉKEGYSÉG\\n\\nEGYSÉGÁR\\n\\nVAT%\\n\\nÁFA%\\n\\nKWOTA NETTO\\n\\nVAT\\n\\nKWOTA BRUTTO\\n\\nWALUTA\\n\\nÉRTÉKE ÁFA NÉLKÜL\\n\\nÁTHÁRÍTOTT ÁFA\\n\\nÉRTÉKE ÁFÁVAL\\n\\nPÉNZNEM\\n\\nSztuk / db\\n\\n-4,00\\n\\n0.00 %\\n\\n-4,00\\n\\n0,00\\n\\n-4,00\\n\\nEUR\\n\\nRODZAJ USŁUGI\\nBilet lotniczy / Repülőjegy (KTW-BCN)\\n\\n SZOLGÁLTATÁS\\n\\n|\\n\\nTOTAL |\\n\\n ÖSSZESEN\\n\\n-4,00\\n\\n-4,00\\n\\n0,00\\n\\n-4,00\\n\\nEUR\\n\\nPODSUMOWANIE VAT |\\n\\n ÁFA ÖSSZESÍTŐ\\n\\nVAT%\\nÁFA%\\n\\n0.00 %\\n\\n0.00 %\\n\\nKWOTA NETTO\\nÁFA ALAP\\n\\nKWOTA VAT\\nÁTHÁRÍTOTT ÁFA\\n\\nKWOTA BRUTTO\\nSZÁMLA ÉRTÉK\\n\\nWALUTA\\nPÉNZNEM\\n\\n-4,00\\n\\n-1 561,00\\n\\n0,00\\n\\n0,00\\n\\n-4,00\\n\\n-1 561,00\\n\\nEUR\\n\\nHUF\\n\\nZwolnione z VAT zgodnie z paragrafem 105 wegierskiej ustawy VAT\\nAdómentes az Áfa tv. 105. § alapján\\n\\nA számla közvetített szolgáltatást tartalmaz.\\n\\n',\n",
       " 'NUMER FAKTURY |\\n155431721Z\\n\\nDATA TRANSAKCJI\\n2024.07.24\\n\\n SZÁMLASZÁM\\n\\n|\\n\\n TELJESÍTÉS DÁTUMA\\n\\nDATA WYSTAWIENIA |\\n2024.07.25\\n\\n SZÁMLA KELTE\\n\\n AZONOSÍTÓ\\n\\nPNR |\\nVW3GSE\\n\\nTERMIN PŁATNOŚCI\\n2024.07.24\\n\\n|\\n\\n FIZETÉSI HATÁRIDŐ\\n\\nSTRONA |\\n\\n OLDAL 1 / 1\\n\\nNAZWA SPRZEDAWCY |\\nWizz Air Hungary Légiközlekedési Zrt.\\n\\n SZÁLLÍTÓ NÉV\\n\\nODBIORCA |\\nOREX TRAVEL Sp. Z o.o.\\n\\n VEVŐ NÉV\\n\\n CÍM\\n\\nADRES |\\nBudapest\\nLechner Ödön fasor 6.\\n1095\\n\\n CÍM\\n\\nADRES |\\nWarszawa\\nAleje Jerozolimskie 132\\n02-305\\nPL\\n\\nEU VAT NUMER |\\nHU26648525\\n\\n UNIÓS ADÓSZÁM\\n\\nNIP ODBIORCY |\\n9542736185\\n\\n VEVŐ ADÓSZÁM\\n\\nVAT NUMER |\\n26648525-2-44\\n\\n ADÓSZÁM\\n\\nILOŚĆ\\n\\nMENNY.\\n\\n1,00\\n\\nJEDNOSTKA MIARY\\n\\nCENA JEDN.\\n\\nMÉRTÉKEGYSÉG\\n\\nEGYSÉGÁR\\n\\nVAT%\\n\\nÁFA%\\n\\nKWOTA NETTO\\n\\nVAT\\n\\nKWOTA BRUTTO\\n\\nWALUTA\\n\\nÉRTÉKE ÁFA NÉLKÜL\\n\\nÁTHÁRÍTOTT ÁFA\\n\\nÉRTÉKE ÁFÁVAL\\n\\nPÉNZNEM\\n\\nSztuk / db\\n\\n-12,00\\n\\n0.00 %\\n\\n-12,00\\n\\n0,00\\n\\n-12,00\\n\\nEUR\\n\\nRODZAJ USŁUGI\\nBilet lotniczy / Repülőjegy (KTW-BCN)\\n\\n SZOLGÁLTATÁS\\n\\n|\\n\\nTOTAL |\\n\\n ÖSSZESEN\\n\\n-12,00\\n\\n-12,00\\n\\n0,00\\n\\n-12,00\\n\\nEUR\\n\\nPODSUMOWANIE VAT |\\n\\n ÁFA ÖSSZESÍTŐ\\n\\nVAT%\\nÁFA%\\n\\n0.00 %\\n\\n0.00 %\\n\\nKWOTA NETTO\\nÁFA ALAP\\n\\nKWOTA VAT\\nÁTHÁRÍTOTT ÁFA\\n\\nKWOTA BRUTTO\\nSZÁMLA ÉRTÉK\\n\\nWALUTA\\nPÉNZNEM\\n\\n-12,00\\n\\n-4 682,00\\n\\n0,00\\n\\n0,00\\n\\n-12,00\\n\\n-4 682,00\\n\\nEUR\\n\\nHUF\\n\\nZwolnione z VAT zgodnie z paragrafem 105 wegierskiej ustawy VAT\\nAdómentes az Áfa tv. 105. § alapján\\n\\nA számla közvetített szolgáltatást tartalmaz.\\n\\n',\n",
       " 'NUMER FAKTURY |\\n155431801Z\\n\\nDATA TRANSAKCJI\\n2024.07.24\\n\\n SZÁMLASZÁM\\n\\n|\\n\\n TELJESÍTÉS DÁTUMA\\n\\nDATA WYSTAWIENIA |\\n2024.07.25\\n\\n SZÁMLA KELTE\\n\\n AZONOSÍTÓ\\n\\nPNR |\\nZKZ78A\\n\\nTERMIN PŁATNOŚCI\\n2024.07.24\\n\\n|\\n\\n FIZETÉSI HATÁRIDŐ\\n\\nSTRONA |\\n\\n OLDAL 1 / 1\\n\\nNAZWA SPRZEDAWCY |\\nWizz Air Hungary Légiközlekedési Zrt.\\n\\n SZÁLLÍTÓ NÉV\\n\\nODBIORCA |\\nOREX TRAVEL Sp. Z o.o.\\n\\n VEVŐ NÉV\\n\\n CÍM\\n\\nADRES |\\nBudapest\\nLechner Ödön fasor 6.\\n1095\\n\\n CÍM\\n\\nADRES |\\nWarszawa\\nAleje Jerozolimskie 132\\n02-305\\nPL\\n\\nEU VAT NUMER |\\nHU26648525\\n\\n UNIÓS ADÓSZÁM\\n\\nNIP ODBIORCY |\\n9542736185\\n\\n VEVŐ ADÓSZÁM\\n\\nVAT NUMER |\\n26648525-2-44\\n\\n ADÓSZÁM\\n\\nILOŚĆ\\n\\nMENNY.\\n\\n1,00\\n\\nJEDNOSTKA MIARY\\n\\nCENA JEDN.\\n\\nMÉRTÉKEGYSÉG\\n\\nEGYSÉGÁR\\n\\nVAT%\\n\\nÁFA%\\n\\nKWOTA NETTO\\n\\nVAT\\n\\nKWOTA BRUTTO\\n\\nWALUTA\\n\\nÉRTÉKE ÁFA NÉLKÜL\\n\\nÁTHÁRÍTOTT ÁFA\\n\\nÉRTÉKE ÁFÁVAL\\n\\nPÉNZNEM\\n\\nSztuk / db\\n\\n-60,00\\n\\n0.00 %\\n\\n-60,00\\n\\n0,00\\n\\n-60,00\\n\\nEUR\\n\\nRODZAJ USŁUGI\\nBilet lotniczy / Repülőjegy (BCN-KTW)\\n\\n SZOLGÁLTATÁS\\n\\n|\\n\\nTOTAL |\\n\\n ÖSSZESEN\\n\\n-60,00\\n\\n-60,00\\n\\n0,00\\n\\n-60,00\\n\\nEUR\\n\\nPODSUMOWANIE VAT |\\n\\n ÁFA ÖSSZESÍTŐ\\n\\nVAT%\\nÁFA%\\n\\n0.00 %\\n\\n0.00 %\\n\\nKWOTA NETTO\\nÁFA ALAP\\n\\nKWOTA VAT\\nÁTHÁRÍTOTT ÁFA\\n\\nKWOTA BRUTTO\\nSZÁMLA ÉRTÉK\\n\\nWALUTA\\nPÉNZNEM\\n\\n-60,00\\n\\n-23 410,00\\n\\n0,00\\n\\n0,00\\n\\n-60,00\\n\\n-23 410,00\\n\\nEUR\\n\\nHUF\\n\\nZwolnione z VAT zgodnie z paragrafem 105 wegierskiej ustawy VAT\\nAdómentes az Áfa tv. 105. § alapján\\n\\nA számla közvetített szolgáltatást tartalmaz.\\n\\n']"
      ]
     },
     "execution_count": 115,
     "metadata": {},
     "output_type": "execute_result"
    }
   ],
   "source": [
    "pages"
   ]
  },
  {
   "cell_type": "code",
   "execution_count": 116,
   "metadata": {},
   "outputs": [],
   "source": [
    "NUMER = r'NUMER FAKTURY.*?\\n(.*?)\\n'\n",
    "DATA = r'DATA WYSTAWIENIA.*?\\n(.*?)\\n'\n",
    "KWOTA = re.compile(r'PODSUMOWANIE.*WALUTA.*\\n(.*?\\,.*?)\\n.*?\\,.*EUR', re.DOTALL)"
   ]
  },
  {
   "cell_type": "code",
   "execution_count": 117,
   "metadata": {},
   "outputs": [],
   "source": [
    "faktury = [['numer', 'data', 'kwota']]\n",
    "for page in pages:\n",
    "    numer = re.search(NUMER, page).group(1)\n",
    "    data = re.search(DATA, page).group(1)\n",
    "    kwota = re.search(KWOTA, page).group(1)\n",
    "    faktury.append([numer, data, kwota])"
   ]
  },
  {
   "cell_type": "code",
   "execution_count": 118,
   "metadata": {},
   "outputs": [
    {
     "data": {
      "text/plain": [
       "[['numer', 'data', 'kwota'],\n",
       " ['155430471Z', '2024.07.25', '-40,00'],\n",
       " ['155431244Z', '2024.07.25', '-4,00'],\n",
       " ['155431721Z', '2024.07.25', '-12,00'],\n",
       " ['155431801Z', '2024.07.25', '-60,00']]"
      ]
     },
     "execution_count": 118,
     "metadata": {},
     "output_type": "execute_result"
    }
   ],
   "source": [
    "faktury"
   ]
  },
  {
   "cell_type": "code",
   "execution_count": 119,
   "metadata": {},
   "outputs": [],
   "source": [
    "faktury = pd.DataFrame(faktury[1:], columns=faktury[0])"
   ]
  },
  {
   "cell_type": "code",
   "execution_count": 110,
   "metadata": {},
   "outputs": [],
   "source": [
    "faktury.to_excel('faktury.xlsx', index=False)"
   ]
  }
 ],
 "metadata": {
  "kernelspec": {
   "display_name": "Python 3",
   "language": "python",
   "name": "python3"
  },
  "language_info": {
   "codemirror_mode": {
    "name": "ipython",
    "version": 3
   },
   "file_extension": ".py",
   "mimetype": "text/x-python",
   "name": "python",
   "nbconvert_exporter": "python",
   "pygments_lexer": "ipython3",
   "version": "3.10.0"
  }
 },
 "nbformat": 4,
 "nbformat_minor": 2
}
