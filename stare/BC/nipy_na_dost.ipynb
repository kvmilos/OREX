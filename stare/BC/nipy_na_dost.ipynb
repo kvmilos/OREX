{
 "cells": [
  {
   "cell_type": "code",
   "execution_count": 1,
   "metadata": {},
   "outputs": [],
   "source": [
    "import pandas as pd"
   ]
  },
  {
   "cell_type": "code",
   "execution_count": 2,
   "metadata": {},
   "outputs": [],
   "source": [
    "dostawcy = pd.read_excel('dostawcy.xlsx', dtype={'NIP': str}, header=0)"
   ]
  },
  {
   "cell_type": "code",
   "execution_count": 3,
   "metadata": {},
   "outputs": [],
   "source": [
    "nipy = pd.read_excel('nipy.xlsx', dtype=str, header=None)"
   ]
  },
  {
   "cell_type": "code",
   "execution_count": 4,
   "metadata": {},
   "outputs": [],
   "source": [
    "# create dictionary from dostawcy NIP: Nr\n",
    "# if there are multiple Nr for the same NIP, save them in a list\n",
    "dic = {}\n",
    "for index, row in dostawcy.iterrows():\n",
    "    if row['NIP'] in dic:\n",
    "        dic[row['NIP']].append(row['Nr'])\n",
    "    else:\n",
    "        dic[row['NIP']] = [row['Nr']]"
   ]
  },
  {
   "cell_type": "code",
   "execution_count": 5,
   "metadata": {},
   "outputs": [],
   "source": [
    "# create a new dict based on dic. If there is only one Nr for a given NIP, save it as a string, otherwise as a list\n",
    "dic2 = {}\n",
    "for key in dic:\n",
    "    if len(dic[key]) == 1:\n",
    "        dic2[key] = dic[key][0]\n",
    "    else:\n",
    "        dic2[key] = dic[key]"
   ]
  },
  {
   "cell_type": "code",
   "execution_count": null,
   "metadata": {},
   "outputs": [],
   "source": [
    "dic2"
   ]
  },
  {
   "cell_type": "code",
   "execution_count": 7,
   "metadata": {},
   "outputs": [],
   "source": [
    "nipy['konto'] = nipy[0].map(dic2)"
   ]
  },
  {
   "cell_type": "code",
   "execution_count": 8,
   "metadata": {},
   "outputs": [],
   "source": [
    "nipy.to_excel('numery_dostawcow.xlsx', index=False, header=False)"
   ]
  }
 ],
 "metadata": {
  "kernelspec": {
   "display_name": ".venv",
   "language": "python",
   "name": "python3"
  },
  "language_info": {
   "codemirror_mode": {
    "name": "ipython",
    "version": 3
   },
   "file_extension": ".py",
   "mimetype": "text/x-python",
   "name": "python",
   "nbconvert_exporter": "python",
   "pygments_lexer": "ipython3",
   "version": "3.11.9"
  }
 },
 "nbformat": 4,
 "nbformat_minor": 2
}
