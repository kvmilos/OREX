{
 "cells": [
  {
   "cell_type": "code",
   "execution_count": 1,
   "metadata": {},
   "outputs": [],
   "source": [
    "import win32com.client as win32\n",
    "import os"
   ]
  },
  {
   "cell_type": "markdown",
   "metadata": {},
   "source": [
    "# WIZZAIR\n"
   ]
  },
  {
   "cell_type": "code",
   "execution_count": 31,
   "metadata": {},
   "outputs": [],
   "source": [
    "temp_dir = \"C:\\\\Temp\"\n",
    "if not os.path.exists(temp_dir):\n",
    "    os.makedirs(temp_dir)\n",
    "    \n",
    "save_dir = \"C:\\\\Users\\\\Kamil Tomaszek\\\\Desktop\\\\OREX\\\\repo\\\\wizzair\\\\mail\"\n",
    "if not os.path.exists(save_dir):\n",
    "    os.makedirs(save_dir)"
   ]
  },
  {
   "cell_type": "code",
   "execution_count": null,
   "metadata": {},
   "outputs": [],
   "source": [
    "outlook = win32.Dispatch(\"Outlook.Application\")\n",
    "namespace = outlook.GetNamespace(\"MAPI\")\n",
    "inbox = namespace.GetDefaultFolder(6)\n",
    "messages = inbox.Items\n",
    "\n",
    "for message in messages:\n",
    "    if message.Subject.startswith(\"FW: FAKTURY WIZ\"):\n",
    "        attachments = message.Attachments\n",
    "        for attachment in attachments:\n",
    "            if attachment.FileName.endswith('.msg'):\n",
    "                # Use a unique filename to avoid conflicts\n",
    "                temp_path = os.path.join(temp_dir, f\"{attachment.FileName}\")\n",
    "                \n",
    "                try:\n",
    "                    # Save the .msg attachment to a temporary location\n",
    "                    attachment.SaveAsFile(temp_path)\n",
    "                    \n",
    "                    # Open the .msg file as a new mail item\n",
    "                    new_mail = outlook.CreateItemFromTemplate(temp_path)\n",
    "                    \n",
    "                    # Iterate through the attachments of the new mail item\n",
    "                    for sub_attachment in new_mail.Attachments:\n",
    "                        if sub_attachment.FileName.endswith('.pdf'):\n",
    "                            pdf_path = os.path.join(save_dir, sub_attachment.FileName)\n",
    "                            sub_attachment.SaveAsFile(pdf_path)\n",
    "                            print(f\"Saved PDF: {pdf_path}\")\n",
    "                except Exception as e:\n",
    "                    print(f\"Failed to process attachment {attachment.FileName}: {e}\")"
   ]
  },
  {
   "cell_type": "markdown",
   "metadata": {},
   "source": []
  },
  {
   "cell_type": "markdown",
   "metadata": {},
   "source": [
    "# wyciągi"
   ]
  },
  {
   "cell_type": "code",
   "execution_count": 39,
   "metadata": {},
   "outputs": [],
   "source": [
    "import zipfile as zip\n",
    "from pdfminer.high_level import extract_text\n",
    "from re import search"
   ]
  },
  {
   "cell_type": "code",
   "execution_count": 23,
   "metadata": {},
   "outputs": [],
   "source": [
    "dirr = \"C:\\\\Users\\\\Kamil Tomaszek\\\\Desktop\\\\OREX\\\\repo\\\\wyciagi\"\n",
    "if not os.path.exists(dirr):\n",
    "    os.makedirs(dirr)"
   ]
  },
  {
   "cell_type": "code",
   "execution_count": null,
   "metadata": {},
   "outputs": [],
   "source": [
    "import win32com.client as win32\n",
    "\n",
    "outlook = win32.Dispatch(\"Outlook.Application\")\n",
    "namespace = outlook.GetNamespace(\"MAPI\")\n",
    "inbox = namespace.GetDefaultFolder(6)\n",
    "messages = inbox.Items\n",
    "\n",
    "for message in messages:\n",
    "    if message.Subject.find(\"WB\") != -1:\n",
    "        attachments = message.Attachments\n",
    "        for attachment in attachments:\n",
    "            print(f\"Attachment: {attachment.FileName}\")"
   ]
  },
  {
   "cell_type": "code",
   "execution_count": 60,
   "metadata": {},
   "outputs": [],
   "source": [
    "for folder in namespace.Folders:\n",
    "    for subfolder in folder.Folders:\n",
    "        for subsubfolder in subfolder.Folders:\n",
    "            for subsubsubfolder in subsubfolder.Folders:\n",
    "                if subsubsubfolder.Name == 'wyciągi bankowe':\n",
    "                    wszystkie = subsubsubfolder.Items"
   ]
  },
  {
   "cell_type": "code",
   "execution_count": null,
   "metadata": {},
   "outputs": [],
   "source": [
    "# for message in messages:\n",
    "# for message in wszystkie:\n",
    "    print(f\"        {message.Subject}\")\n",
    "    for attachment in message.Attachments:\n",
    "        if attachment.FileName.endswith('.pdf'):\n",
    "            attachment.SaveAsFile(os.path.join(dirr, attachment.FileName))\n",
    "            print(f\"            {attachment.FileName}\")\n",
    "        if attachment.FileName.endswith('.zip'):\n",
    "            # Save the .zip attachment to a temporary location\n",
    "            attachment.SaveAsFile(os.path.join(temp_dir, attachment.FileName))\n",
    "            with zip.ZipFile(os.path.join(temp_dir, attachment.FileName), 'r') as z:\n",
    "                z.extractall(dirr)\n",
    "                print('extracted ', attachment.FileName)"
   ]
  },
  {
   "cell_type": "code",
   "execution_count": 62,
   "metadata": {},
   "outputs": [],
   "source": [
    "DATE_PATTERN = r'\\b\\d{2}\\.\\d{2}\\.\\d{4}\\b'\n",
    "def extract_date_from_pdf(file_path: str) -> str:\n",
    "    text = extract_text(file_path)\n",
    "    match = search(DATE_PATTERN, text)\n",
    "    if match:\n",
    "        return match.group(0)\n",
    "    else:\n",
    "        return None"
   ]
  },
  {
   "cell_type": "code",
   "execution_count": 63,
   "metadata": {},
   "outputs": [],
   "source": [
    "def move_file(file: str, how: int, folder):\n",
    "    if how == 2:\n",
    "        # date is the last 8 characters of the filename before .pdf in the format YYYYMMDD\n",
    "        date = file[-12:-4]\n",
    "        year = date[:4]\n",
    "        month = date[4:6]\n",
    "        day = date[6:]\n",
    "        accnum = r'(\\d{4})(PLN|EUR|USD)'\n",
    "        account = search(accnum, file).group(1)\n",
    "        month_folder = year + '-' + month\n",
    "        day_folder = year + '-' + month + '-' + day\n",
    "        if not os.path.exists(os.path.join(folder, month_folder)):\n",
    "            os.makedirs(os.path.join(folder, month_folder))\n",
    "        if not os.path.exists(os.path.join(folder, month_folder, day_folder)):\n",
    "            os.makedirs(os.path.join(folder, month_folder, day_folder))\n",
    "        new_file = account + '.pdf'\n",
    "        os.rename(os.path.join(folder, file), os.path.join(folder, month_folder, day_folder, 'S' + new_file))\n",
    "    if how == 1:\n",
    "        date = extract_date_from_pdf(os.path.join(folder, file))\n",
    "        year = date[-4:]\n",
    "        month = date[3:5]\n",
    "        day = date[:2]\n",
    "        month_folder = year + '-' + month\n",
    "        day_folder = year + '-' + month + '-' + day\n",
    "        if not os.path.exists(os.path.join(folder, month_folder)):\n",
    "            os.makedirs(os.path.join(folder, month_folder))\n",
    "        if not os.path.exists(os.path.join(folder, month_folder, day_folder)):\n",
    "            os.makedirs(os.path.join(folder, month_folder, day_folder))\n",
    "        accnum = file[18:22]\n",
    "        new_file = accnum + '.pdf'\n",
    "        try:\n",
    "            os.rename(os.path.join(folder, file), os.path.join(folder, month_folder, day_folder, 'B' + new_file))\n",
    "        except:\n",
    "            print('Error: ', file)\n"
   ]
  },
  {
   "cell_type": "code",
   "execution_count": 64,
   "metadata": {},
   "outputs": [],
   "source": [
    "for file in os.listdir(dirr):\n",
    "    if file.endswith('.pdf'):\n",
    "        if file.startswith('PL'):\n",
    "            move_file(file, 2, dirr)\n",
    "        else:\n",
    "            move_file(file, 1, dirr)"
   ]
  },
  {
   "cell_type": "code",
   "execution_count": null,
   "metadata": {},
   "outputs": [],
   "source": []
  }
 ],
 "metadata": {
  "kernelspec": {
   "display_name": ".venv",
   "language": "python",
   "name": "python3"
  },
  "language_info": {
   "codemirror_mode": {
    "name": "ipython",
    "version": 3
   },
   "file_extension": ".py",
   "mimetype": "text/x-python",
   "name": "python",
   "nbconvert_exporter": "python",
   "pygments_lexer": "ipython3",
   "version": "3.10.0"
  }
 },
 "nbformat": 4,
 "nbformat_minor": 2
}
