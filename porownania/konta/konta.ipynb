{
 "cells": [
  {
   "cell_type": "code",
   "execution_count": 8,
   "metadata": {},
   "outputs": [],
   "source": [
    "import re\n",
    "import pandas"
   ]
  },
  {
   "cell_type": "code",
   "execution_count": 9,
   "metadata": {},
   "outputs": [],
   "source": [
    "with open('konta.txt', 'r') as file:\n",
    "    data = file.read()"
   ]
  },
  {
   "cell_type": "code",
   "execution_count": 10,
   "metadata": {},
   "outputs": [],
   "source": [
    "KONTRAHENT = r'Kontrahent\\{.+?\\}\\n(?=Kontrahent|$)'\n",
    "NAZWA = r'nazwa\\s?\\=(.*)'\n",
    "NIP = r'NIP\\s?\\=(.*)'\n",
    "KONTO = r'numerRachunku\\s?\\=(.*)'\n",
    "NAZWA_KONTA = r'nazwaBanku\\s?\\=(.*)'\n"
   ]
  },
  {
   "cell_type": "code",
   "execution_count": 11,
   "metadata": {},
   "outputs": [
    {
     "data": {
      "text/plain": [
       "2811"
      ]
     },
     "execution_count": 11,
     "metadata": {},
     "output_type": "execute_result"
    }
   ],
   "source": [
    "matches = re.findall(KONTRAHENT, data, re.DOTALL | re.S | re.M | re.I | re.U)\n",
    "len(matches)"
   ]
  },
  {
   "cell_type": "code",
   "execution_count": 13,
   "metadata": {},
   "outputs": [
    {
     "name": "stdout",
     "output_type": "stream",
     "text": [
      "4\n"
     ]
    }
   ],
   "source": [
    "dane = []\n",
    "for match in matches:\n",
    "    nazwa = re.search(NAZWA, match).group(1)\n",
    "    nip = re.search(NIP, match).group(1)\n",
    "    konta = re.findall(KONTO, match)\n",
    "    if len(konta) > 1:\n",
    "        nazwy_kont = re.findall(NAZWA_KONTA, match)\n",
    "        konto = {n: k for n, k in zip(nazwy_kont, konta) if n}\n",
    "        nazwa_konta = nazwy_kont\n",
    "    else:\n",
    "        if konta:\n",
    "            konto = konta[0]\n",
    "        else:\n",
    "            konto = 'brak konta w symfonii'\n",
    "    dane.append((nazwa, nip, konto))"
   ]
  },
  {
   "cell_type": "code",
   "execution_count": 6,
   "metadata": {},
   "outputs": [],
   "source": [
    "# change the list of tuples to a DataFrame\n",
    "df = pandas.DataFrame(dane, columns=['nazwa', 'nip', 'konto'])"
   ]
  },
  {
   "cell_type": "code",
   "execution_count": 7,
   "metadata": {},
   "outputs": [],
   "source": [
    "# save to excel\n",
    "df.to_excel('konta.xlsx', index=False)"
   ]
  },
  {
   "cell_type": "code",
   "execution_count": null,
   "metadata": {},
   "outputs": [],
   "source": []
  }
 ],
 "metadata": {
  "kernelspec": {
   "display_name": ".venv",
   "language": "python",
   "name": "python3"
  },
  "language_info": {
   "codemirror_mode": {
    "name": "ipython",
    "version": 3
   },
   "file_extension": ".py",
   "mimetype": "text/x-python",
   "name": "python",
   "nbconvert_exporter": "python",
   "pygments_lexer": "ipython3",
   "version": "3.11.9"
  }
 },
 "nbformat": 4,
 "nbformat_minor": 2
}
