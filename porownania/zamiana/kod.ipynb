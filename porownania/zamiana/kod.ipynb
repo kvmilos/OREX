{
 "cells": [
  {
   "cell_type": "code",
   "execution_count": 1,
   "metadata": {},
   "outputs": [],
   "source": [
    "import pandas as pd"
   ]
  },
  {
   "cell_type": "code",
   "execution_count": 2,
   "metadata": {},
   "outputs": [],
   "source": [
    "url = 'https://raw.githubusercontent.com/kvmilos/OREX/main/kontrahenci.csv'\n",
    "df = pd.read_csv(url, dtype=str)\n",
    "dic = dict(zip('201-2-1-' + df['pozycja'], df['kod']))\n",
    "\n",
    "def get_reservation(x: str):\n",
    "    if x in dic:\n",
    "        return dic[x]\n",
    "    else:\n",
    "        return x"
   ]
  },
  {
   "cell_type": "code",
   "execution_count": null,
   "metadata": {},
   "outputs": [],
   "source": [
    "# I have 3 files. 'czerwiec.xlsx', 'lipiec.xlsx', 'sierpien.xlsx'. Each of them has 3 spreadsheets. I want to open each of them and add 11th column with values of get_reservation(column 9)\n",
    "for file in ['czerwiec.xlsx', 'lipiec.xlsx', 'sierpien.xlsx']:\n",
    "    dfs = pd.ExcelFile(file)\n",
    "    sheets = dfs.sheet_names\n",
    "    for sheet in sheets:\n",
    "        dfs[sheet].columns = [f'c{i}' for i in range(11)]\n",
    "        dfs[sheet]['c11'] = df[sheet]['c9'].apply(get_reservation)\n",
    "        dfs[sheet].to_excel(f'result_{sheet}_{file}', index=False, header=False)\n",
    "        "
   ]
  },
  {
   "cell_type": "code",
   "execution_count": null,
   "metadata": {},
   "outputs": [],
   "source": []
  }
 ],
 "metadata": {
  "kernelspec": {
   "display_name": ".venv",
   "language": "python",
   "name": "python3"
  },
  "language_info": {
   "codemirror_mode": {
    "name": "ipython",
    "version": 3
   },
   "file_extension": ".py",
   "mimetype": "text/x-python",
   "name": "python",
   "nbconvert_exporter": "python",
   "pygments_lexer": "ipython3",
   "version": "3.11.8"
  }
 },
 "nbformat": 4,
 "nbformat_minor": 2
}
