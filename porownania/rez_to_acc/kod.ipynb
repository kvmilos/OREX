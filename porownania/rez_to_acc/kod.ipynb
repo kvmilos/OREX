{
 "cells": [
  {
   "cell_type": "code",
   "execution_count": 1,
   "metadata": {},
   "outputs": [],
   "source": [
    "import pandas as pd"
   ]
  },
  {
   "cell_type": "code",
   "execution_count": 2,
   "metadata": {},
   "outputs": [],
   "source": [
    "url = 'https://raw.githubusercontent.com/kvmilos/OREX/main/kontrahenci.csv'\n",
    "df = pd.read_csv(url, dtype=str)\n",
    "dic = dict(zip(df['kod'], '201-2-1-' + df['pozycja']))\n",
    "    \n",
    "def get_account(x: str):\n",
    "    if x in dic:\n",
    "        return dic[x]\n",
    "    else:\n",
    "        return x"
   ]
  },
  {
   "cell_type": "code",
   "execution_count": 4,
   "metadata": {},
   "outputs": [],
   "source": [
    "file='plik.xlsx'\n",
    "# it has 5 sheets, read each of them\n",
    "xls = pd.ExcelFile(file)\n",
    "with pd.ExcelWriter(f'zmienione_{file}') as writer:\n",
    "    for sheet in xls.sheet_names:\n",
    "        df = pd.read_excel(file, sheet_name=sheet, dtype=str)\n",
    "        df.columns = ['rez']\n",
    "        df['konto'] = df['rez'].apply(get_account)\n",
    "        df.to_excel(writer, sheet_name=sheet, index=False)"
   ]
  },
  {
   "cell_type": "code",
   "execution_count": null,
   "metadata": {},
   "outputs": [],
   "source": []
  }
 ],
 "metadata": {
  "kernelspec": {
   "display_name": ".venv",
   "language": "python",
   "name": "python3"
  },
  "language_info": {
   "codemirror_mode": {
    "name": "ipython",
    "version": 3
   },
   "file_extension": ".py",
   "mimetype": "text/x-python",
   "name": "python",
   "nbconvert_exporter": "python",
   "pygments_lexer": "ipython3",
   "version": "3.11.8"
  }
 },
 "nbformat": 4,
 "nbformat_minor": 2
}
