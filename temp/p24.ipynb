{
 "cells": [
  {
   "cell_type": "code",
   "execution_count": 70,
   "metadata": {},
   "outputs": [],
   "source": [
    "import pandas as pd\n",
    "import re\n",
    "\n",
    "# Load data from Excel\n",
    "file = 'p24.xlsx'\n",
    "p = pd.read_excel(file, sheet_name='p24')\n",
    "p['kwota'] = p['kwota'].astype(int)\n",
    "p['data'] = pd.to_datetime(p['data'])\n",
    "p['tytul'] = p['tytul'].astype(str)\n",
    "\n",
    "b = pd.read_excel(file, sheet_name='BC')\n",
    "b['kwota'] = (b['kwota'] * 100).round().astype(int)\n",
    "b['data'] = pd.to_datetime(b['data'])\n",
    "b['tytul'] = b['tytul'].astype(str)\n",
    "\n",
    "# Define function to extract reservation numbers\n",
    "def find_res(text):\n",
    "    res = re.findall(r'(\\D|\\b)(\\d{7})(\\D|\\b)', text)\n",
    "    return res[0][1] if res else None\n",
    "\n",
    "# Add 'res' columns to both DataFrames\n",
    "p['res'] = p['tytul'].apply(find_res)\n",
    "b['res'] = b['tytul'].apply(find_res)\n",
    "\n",
    "# Merge DataFrames on 'res' and 'kwota'\n",
    "merged = p.merge(b, on=['res', 'kwota'], suffixes=('_p', '_b'), how='outer')\n",
    "\n",
    "# save merged to Excel\n",
    "merged.to_excel('merged.xlsx', index=False)\n",
    "\n",
    "# Separate rows into different categories\n",
    "matches_same_month = merged[\n",
    "    (merged['data_p'].dt.month == merged['data_b'].dt.month) & merged['res'].notna()\n",
    "]\n",
    "matches_diff_month = merged[\n",
    "    (merged['data_p'].dt.month != merged['data_b'].dt.month) & merged['res'].notna()\n",
    "]\n",
    "unmatched = merged[\n",
    "    merged['res'].isna() | merged[['data_p', 'data_b']].isnull().any(axis=1)\n",
    "]\n",
    "\n",
    "# Save results to Excel\n",
    "with pd.ExcelWriter('output.xlsx') as writer:\n",
    "    matches_same_month.to_excel(writer, sheet_name='matches_same_month', index=False)\n",
    "    matches_diff_month.to_excel(writer, sheet_name='matches_diff_month', index=False)\n",
    "    unmatched.to_excel(writer, sheet_name='unmatched', index=False)\n"
   ]
  },
  {
   "cell_type": "code",
   "execution_count": null,
   "metadata": {},
   "outputs": [],
   "source": []
  }
 ],
 "metadata": {
  "kernelspec": {
   "display_name": ".venv",
   "language": "python",
   "name": "python3"
  },
  "language_info": {
   "codemirror_mode": {
    "name": "ipython",
    "version": 3
   },
   "file_extension": ".py",
   "mimetype": "text/x-python",
   "name": "python",
   "nbconvert_exporter": "python",
   "pygments_lexer": "ipython3",
   "version": "3.12.6"
  }
 },
 "nbformat": 4,
 "nbformat_minor": 2
}
