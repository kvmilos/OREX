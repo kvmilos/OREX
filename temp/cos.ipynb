{
 "cells": [
  {
   "cell_type": "code",
   "execution_count": 27,
   "metadata": {},
   "outputs": [
    {
     "name": "stdout",
     "output_type": "stream",
     "text": [
      "8753179 8753146\n",
      "33\n"
     ]
    }
   ],
   "source": [
    "# Creating two Python lists from the given structure\n",
    "\n",
    "bank_list = [\n",
    "    30421.13, 13100.4, 7889.2, 6291.0, 5858.32, 5415.98, 4260.82, 3716.55, 3481.65, \n",
    "    2553.75, 2153.26, 1921.73, 468.0,\n",
    "]\n",
    "\n",
    "program_list = [\n",
    "    1180.58, 1180.58, 1180.58, 1180.58, 3166.88, 234.0, 234.0, 4620.37, 1237.95, \n",
    "    589.05, 694.35, 1175.17, 913.27, 518.85, 2444.3, 2452.5, 1516.05, 1182.6, \n",
    "    1017.9, 2091.15, 1390.5, 466.88, 1686.38, 888.98, 1052.33, 869.4, 1333.13, \n",
    "    2419.88, 978.07, 978.07, 581.85, 758.7, 559.8, 1235.25, 978.07, 5391.0, \n",
    "    3488.63, 6507.0, 4043.25, 4043.25, 553.05, 5416.88, 737.78, 2810.7, 1185.3, \n",
    "    4974.75, 3391.87\n",
    "]\n",
    "\n",
    "bank_list = [int(x * 100) for x in bank_list]\n",
    "program_list = [int(round(x * 100)) for x in program_list]\n",
    "print(sum(bank_list), sum(program_list))\n",
    "print(sum(bank_list) - sum(program_list))"
   ]
  },
  {
   "cell_type": "code",
   "execution_count": 31,
   "metadata": {},
   "outputs": [
    {
     "name": "stdout",
     "output_type": "stream",
     "text": [
      "541598 [51885, 244430, 245250] 541565 33\n",
      "46800 [148972, 148989] 297961 -251161\n"
     ]
    }
   ],
   "source": [
    "\"\"\"\n",
    "6507 4043,25 978,07 4043,25  3488,63 5416,88 553,05 5391 \t30421,13\n",
    " (3391.87) (4974.75)  (1185.30)  (2810.70)  (737.78) \t13100,4\n",
    "ALL 7889.20/NR.0000314534KOM. 0.00/DAT.31.12.2024OREX TRAVEL /Warszawa \t7889,2\n",
    "978.07 978.07 581.85 2419.88 1333.13 \t6291\n",
    "4620,37 1237,95 \t5858,32\n",
    "518,85 2444,3 2452,5 \t5415,98\n",
    "694.35 589.05 888.98 1175.17 913.27 \t4260,82\n",
    "1017.90 1516.05 1182.60 \t3716,55\n",
    "2091,15 1390,50 \t3481,65\n",
    "559.80 758.70 1235.25 \t2553,75\n",
    "466,88; 1686,38\t2153,26\n",
    "869,40; 1052,33\t1921,73\n",
    "REZERWACJE: 1488972 ORAZ 1488989 \t468\n",
    "\"\"\"\n",
    "mapping = {3042113: [650700, 404325, 97807, 404325, 348863, 541688, 55305, 539100],\n",
    "              1310040: [339187, 497475, 118530, 281070, 73778],\n",
    "              788920: [788920],\n",
    "              629100: [97807, 97807, 58185, 241988, 133313],\n",
    "              585832: [462037, 123795],\n",
    "              541598: [51885, 244430, 245250],\n",
    "              426082: [69435, 58905, 88898, 117517, 91327],\n",
    "              371655: [101790, 151605, 118260],\n",
    "              348165: [209115, 139050],\n",
    "              255375: [55980, 75870, 123525],\n",
    "              215326: [46688, 168638],\n",
    "              192173: [86940, 105233],\n",
    "              46800: [148972, 148989]}\n",
    "\n",
    "# for each element in mapping, check if the sum of the elements in the list is equal to the key\n",
    "for key, value in mapping.items():\n",
    "    if sum(value) != key:\n",
    "        print(key, value, sum(value), key - sum(value))"
   ]
  },
  {
   "cell_type": "code",
   "execution_count": null,
   "metadata": {},
   "outputs": [],
   "source": []
  }
 ],
 "metadata": {
  "kernelspec": {
   "display_name": ".venv",
   "language": "python",
   "name": "python3"
  },
  "language_info": {
   "codemirror_mode": {
    "name": "ipython",
    "version": 3
   },
   "file_extension": ".py",
   "mimetype": "text/x-python",
   "name": "python",
   "nbconvert_exporter": "python",
   "pygments_lexer": "ipython3",
   "version": "3.12.6"
  }
 },
 "nbformat": 4,
 "nbformat_minor": 2
}
