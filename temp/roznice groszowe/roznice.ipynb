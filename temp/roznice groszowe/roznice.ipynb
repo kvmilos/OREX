{
 "cells": [
  {
   "cell_type": "code",
   "execution_count": 7,
   "metadata": {},
   "outputs": [
    {
     "name": "stdout",
     "output_type": "stream",
     "text": [
      "Plik result.xlsx został wygenerowany.\n"
     ]
    }
   ],
   "source": [
    "import pandas as pd\n",
    "import datetime\n",
    "\n",
    "# Wczytanie pliku wejściowego\n",
    "input_file = 'dane.xlsx'\n",
    "df = pd.read_excel(input_file)\n",
    "\n",
    "# Jeśli kolumna 'Kwota' zawiera przecinek jako separator dziesiętny, zamieniamy go na kropkę i konwertujemy na float\n",
    "df['Kwota'] = df['Kwota'].astype(str).str.replace(',', '.').astype(float)\n",
    "\n",
    "# Konwersja rezerwacji do typu int (zakładamy, że kolumna 'Res' zawiera dane numeryczne)\n",
    "df['Res'] = df['Res'].astype(int)\n",
    "\n",
    "# Pobranie bieżącej daty w wymaganych formatach\n",
    "today = datetime.date.today()\n",
    "date_str = today.strftime('%Y-%m-%d')      # Format: 2025-02-20\n",
    "doc_date_str = today.strftime('%d/%m/%y')    # Format: 20/02/25\n",
    "\n",
    "# Lista na wiersze wynikowe\n",
    "output_rows = []\n",
    "\n",
    "# Liczniki:\n",
    "# row_counter – do określenia numeru wiersza (mnożymy przez 10000)\n",
    "# doc_counter – numer dokumentu, zwiększany o 1 dla każdego wiersza\n",
    "row_counter = 0\n",
    "doc_counter = 1\n",
    "\n",
    "for idx, row in df.iterrows():\n",
    "    nr_konta = row['Nr nab']       # numer konta\n",
    "    reservation = int(row['Res'])   # numer rezerwacji jako int\n",
    "    # Zaokrąglamy kwotę do 2 miejsc po przecinku\n",
    "    amount = round(row['Kwota'], 2)\n",
    "    \n",
    "    # Numer dokumentu wg wzoru: \"R_GROSZ {doc_date_str} {doc_counter:03d}\"\n",
    "    nr_dokumentu = f\"R_GROSZ {doc_date_str} {doc_counter:03d}\"\n",
    "    \n",
    "    # Opis wg wzoru, kwota formatowana do 2 miejsc po przecinku\n",
    "    opis = f\"Różnice groszowe: {amount:.2f} z rez {reservation}\"\n",
    "    \n",
    "    # Określenie Nr konta przeciwst. zależnie od wartości kwoty\n",
    "    if amount > 0:\n",
    "        konto_przeciwst = \"764-99\"\n",
    "    elif amount < 0:\n",
    "        konto_przeciwst = \"763-99\"\n",
    "    else:\n",
    "        konto_przeciwst = \"\"\n",
    "    \n",
    "    row_counter += 1\n",
    "    output_rows.append({\n",
    "        \"Nr wiersza\": row_counter * 10000,\n",
    "        \"Nazwa instancji dziennika\": \"ROZ_GROSZ\",\n",
    "        \"Nazwa szablonu dziennika\": \"OGÓLNE\",\n",
    "        \"Data księgowania\": date_str,\n",
    "        \"Data VAT\": date_str,\n",
    "        \"Data dokumentu\": date_str,\n",
    "        \"Nr dokumentu\": nr_dokumentu,\n",
    "        \"Typ konta\": \"Nabywca\",\n",
    "        \"Nr konta\": nr_konta,\n",
    "        \"Reservation No.\": reservation,\n",
    "        \"Opis\": opis,\n",
    "        \"Kwota\": -amount,\n",
    "        \"Kwota Debet\": \"\",\n",
    "        \"Kwota Kredyt\": \"\",\n",
    "        \"Typ konta przeciwst.\": \"Konto K/G\",\n",
    "        \"Nr konta przeciwst.\": konto_przeciwst\n",
    "    })\n",
    "    \n",
    "    doc_counter += 1\n",
    "\n",
    "# Utworzenie DataFrame z wynikowymi danymi\n",
    "output_df = pd.DataFrame(output_rows)\n",
    "\n",
    "# Zapis do pliku Excel\n",
    "output_file = 'result.xlsx'\n",
    "output_df.to_excel(output_file, index=False)\n",
    "\n",
    "print(f\"Plik {output_file} został wygenerowany.\")\n"
   ]
  },
  {
   "cell_type": "code",
   "execution_count": null,
   "metadata": {},
   "outputs": [],
   "source": []
  }
 ],
 "metadata": {
  "kernelspec": {
   "display_name": ".venv",
   "language": "python",
   "name": "python3"
  },
  "language_info": {
   "codemirror_mode": {
    "name": "ipython",
    "version": 3
   },
   "file_extension": ".py",
   "mimetype": "text/x-python",
   "name": "python",
   "nbconvert_exporter": "python",
   "pygments_lexer": "ipython3",
   "version": "3.12.6"
  }
 },
 "nbformat": 4,
 "nbformat_minor": 2
}
